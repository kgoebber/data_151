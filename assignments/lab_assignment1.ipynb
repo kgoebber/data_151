{
 "cells": [
  {
   "cell_type": "markdown",
   "id": "87fef60f-5adf-4e95-a7e1-89cf01467e37",
   "metadata": {},
   "source": [
    "# Lab Assignment #1\n",
    "## Part 1: Introduction to Python\n",
    "Use this notebook to develop your answers for each of the questions. Turn in this notebook via the following Google Folder. Make sure to submit it in the correct assignment folder and to uniquely name your file using the following nomenclature:\n",
    "\n",
    "`lab_assignment_1_part1_<username>.ipynb`\n",
    "    \n",
    "where `<username>` is your DataVU login username.\n",
    "\n",
    "https://drive.google.com/drive/folders/1VhNBCzxFumMtzN8smMk5NAv3uJm3lCkn?usp=sharing\n",
    "\n",
    "**Be sure to rename your file before you add it to the Google Shared Drive.**"
   ]
  },
  {
   "cell_type": "markdown",
   "id": "2434a5ce-9977-47ea-bc24-55c4ccc4623d",
   "metadata": {},
   "source": [
    "### Question #1\n",
    "Write Python code to uses a number from 1 to 12 as input and display name of the month and total number of days in that month. For example, 1 for January and number of days 31. (Ignore leap years)"
   ]
  },
  {
   "cell_type": "code",
   "execution_count": null,
   "id": "78d855f9-f8f2-4d5f-bab1-78fbde1d1a48",
   "metadata": {},
   "outputs": [],
   "source": []
  },
  {
   "cell_type": "markdown",
   "id": "0918594d-5c21-45fd-95ab-c8dc6f5420d0",
   "metadata": {},
   "source": [
    "### Question #2\n",
    "Write Python code to process a list of exam percentages and display the exam score and grade according to the following criteria:\n",
    "\n",
    "| Marks | Grade |\n",
    "| - | :-: |\n",
    "| > 90 | A |\n",
    "| >= 80 and < 90 | B |\n",
    "| > =70 and < 80 | C |\n",
    "| >= 60 and < 70 | D |\n",
    "| Below 60 | F |\n"
   ]
  },
  {
   "cell_type": "code",
   "execution_count": null,
   "id": "8db50ba1-0fd6-45e3-a493-643651993a1b",
   "metadata": {},
   "outputs": [],
   "source": []
  },
  {
   "cell_type": "markdown",
   "id": "0285534b-70bc-45ce-8431-644af6d016ca",
   "metadata": {},
   "source": [
    "### Question #3\n",
    "Add item 7000 after 6000 in the following Python List:"
   ]
  },
  {
   "cell_type": "code",
   "execution_count": null,
   "id": "0b34cfd0-05ed-499d-a295-f9c8a8fae575",
   "metadata": {},
   "outputs": [],
   "source": [
    "list1 = [10, 20, [300, 400, [5000, 6000], 500], 30, 40]\n",
    "print()"
   ]
  },
  {
   "cell_type": "markdown",
   "id": "710237ee-d150-42b0-bc6e-099d1237c49c",
   "metadata": {},
   "source": [
    "### Question #4\n",
    "Print the value of key ‘history’ from the dictionary given below:"
   ]
  },
  {
   "cell_type": "code",
   "execution_count": null,
   "id": "8ab2fd32-0378-4baa-aba6-fc15b3183e23",
   "metadata": {},
   "outputs": [],
   "source": [
    "sampleDict = { \n",
    "   \"class\":{ \n",
    "      \"student\":{ \n",
    "         \"name\":\"Mike\",\n",
    "         \"marks\":{ \n",
    "            \"physics\":70,\n",
    "            \"history\":80\n",
    "         }\n",
    "      }\n",
    "   }\n",
    "}\n",
    "print()"
   ]
  },
  {
   "cell_type": "markdown",
   "id": "4d091e24-690a-4e4a-b69f-544c12c6d9a8",
   "metadata": {},
   "source": [
    "### Question #5\n",
    "Write Python code to compute amortized monthly payment of a loan based on three inputs: the loan amount in dollars, a fixed annual interest rate in percent, and number of months of loan payments. Report out the monthly payment, computed monthly interest due, principle due, outstanding loan balance, and accumulated payments for each month of the loan repayment period.\n",
    "\n",
    "Helpful information:https://www.vertex42.com/ExcelArticles/amortization-calculation.html\n"
   ]
  },
  {
   "cell_type": "code",
   "execution_count": null,
   "id": "4c042ee1-90e1-4d3d-8171-0c8286cc3bbc",
   "metadata": {},
   "outputs": [],
   "source": []
  }
 ],
 "metadata": {
  "kernelspec": {
   "display_name": "Python 3",
   "language": "python",
   "name": "python3"
  },
  "language_info": {
   "codemirror_mode": {
    "name": "ipython",
    "version": 3
   },
   "file_extension": ".py",
   "mimetype": "text/x-python",
   "name": "python",
   "nbconvert_exporter": "python",
   "pygments_lexer": "ipython3",
   "version": "3.7.10"
  }
 },
 "nbformat": 4,
 "nbformat_minor": 5
}
