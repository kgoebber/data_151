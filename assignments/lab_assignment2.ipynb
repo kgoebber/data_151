{
 "cells": [
  {
   "cell_type": "markdown",
   "id": "568ef2bb-78fb-4a28-b606-00ada3b19c92",
   "metadata": {},
   "source": [
    "# Lab Assignment #2\n",
    "## Introduction to Numpy for Data Science\n",
    "Use this notebook to develop your answers for each of the questions. For each question, be sure to print output to the screen that answers the individual questions with a sentence that contains the answer. Each answer should be generate through running computer code to obtain the answer.\n",
    "\n",
    "Turn in this notebook via the following Google Folder. Make sure to submit it in the correct assignment folder and to uniquely name your file using the following nomenclature:\n",
    "\n",
    "`lab_assignment_2_<username>.ipynb`\n",
    "    \n",
    "where `<username>` is your DataVU login username, mine would be `kgoebber`.\n",
    "\n",
    "https://drive.google.com/drive/folders/1D5Y5lRkwZl_w_Tnu_XpVOrj80g_AKJXx?usp=sharing\n",
    "\n",
    "**Be sure to rename your file before you add it to the Google Shared Drive.**"
   ]
  },
  {
   "cell_type": "code",
   "execution_count": null,
   "id": "ca93e22b-fecd-49a9-aac6-3fe3a29ef531",
   "metadata": {},
   "outputs": [],
   "source": []
  },
  {
   "cell_type": "markdown",
   "id": "4c484013-b07a-457e-8f9c-8932745e3e27",
   "metadata": {
    "id": "ubro1VAyUtad",
    "tags": []
   },
   "source": [
    "## Question 1\n",
    "How tall have U.S. Presidents been? Using the Presidential Heights data set, which has heights in centimeters, convert the heights to be in inches and answer the following questions using numpy functions.\n",
    "* What is the average height of US Presidents in inches?\n",
    "* What is the median height of US Presidents in inches?\n",
    "* What is the mode height of US Presidents in inches?\n",
    "\n",
    "The data are available in the file *president_heights.csv*, which is a simple comma-separated list of labels and values"
   ]
  },
  {
   "cell_type": "code",
   "execution_count": null,
   "id": "4bc2eecd-85fa-452e-8419-32815628143d",
   "metadata": {},
   "outputs": [],
   "source": []
  },
  {
   "cell_type": "markdown",
   "id": "ad38388c-4098-4ed4-839d-0c3a11436a6b",
   "metadata": {},
   "source": [
    "## Question 2\n",
    "Use Numpy functionality to determing the values of the following questions.\n",
    "\n",
    "* Which U.S. Presidents were in the lowest 25th percentile of height?\n",
    "* Which U.S. Presidents were in the top 25th percentile of height?\n",
    "* Who was (are) the tallest U.S. President(s)?\n",
    "* Who was the shortest U.S. President?\n",
    "\n",
    "The data are available in the file *president_heights.csv*, which is a simple comma-separated list of labels and values"
   ]
  },
  {
   "cell_type": "code",
   "execution_count": null,
   "id": "42c76503-2b9e-4a88-a2d2-22600e8de7df",
   "metadata": {},
   "outputs": [],
   "source": []
  },
  {
   "cell_type": "markdown",
   "id": "67005ceb-6396-45e5-a1c6-a06bea159ed3",
   "metadata": {
    "tags": []
   },
   "source": [
    "## Question 3\n",
    "Using the file that contains basic daily weather data for Chicago O'Hare Airport (ORD), read it in using Pandas `read_csv` function and use the time column as the index.\n",
    "\n",
    "* What is the shape of the array read in from the file?\n",
    "* How many days had a minimum temperature less than or equal to 32F?\n",
    "* How many days had a maximum temperature greater than or equal to 75F?\n",
    "\n",
    "The data are available in the file *ord_daily_wx_data_2011.csv*, which is a simple comma-seperated list containing labels and values"
   ]
  },
  {
   "cell_type": "code",
   "execution_count": null,
   "id": "c3666b6b-8c3d-4fe9-b285-4a27aa30c003",
   "metadata": {},
   "outputs": [],
   "source": []
  },
  {
   "cell_type": "markdown",
   "id": "ebb9e1e5-10ab-45e9-b238-0f27ac1904d4",
   "metadata": {},
   "source": [
    "## Question 4\n",
    "Use Numpy functions/methods to copmuter determine the following values from the ORD daily weather data for 2011.\n",
    "\n",
    "* How much precipitation fell at Chicago, O'Hare Airport (ORD) in 2011?\n",
    "* What was the average maximum temperature at ORD in 2011?\n",
    "* What was the average minimum temperature at ORD in 2011?\n",
    "\n",
    "The data are available in the file *ord_daily_wx_data_2011.csv*, which is a simple comma-seperated list containing labels and values"
   ]
  },
  {
   "cell_type": "code",
   "execution_count": null,
   "id": "80b05a07-f6c9-4872-bde7-7258cd220ff9",
   "metadata": {},
   "outputs": [],
   "source": []
  },
  {
   "cell_type": "markdown",
   "id": "8de3eb6c-25a3-46f4-9e13-89c2d4a5443d",
   "metadata": {},
   "source": [
    "## Question 5\n",
    "Use the ORD daily weather data from 2011 to determine the following using Numpy functions and methods.\n",
    "* On which day did the warmest maximum temperature occur at ORD?\n",
    "* On which day did the coldest minimum temperature occur at ORD?\n",
    "* On which day was there the greatest range of maximum to minimum temperature occur at ORD?\n",
    "\n",
    "The data are available in the file *ord_daily_wx_data_2011.csv*, which is a simple comma-seperated list containing labels and values"
   ]
  },
  {
   "cell_type": "code",
   "execution_count": null,
   "id": "262c92cd-9758-4280-982f-c9c09eb38f44",
   "metadata": {},
   "outputs": [],
   "source": []
  }
 ],
 "metadata": {
  "kernelspec": {
   "display_name": "Python 3 (ipykernel)",
   "language": "python",
   "name": "python3"
  },
  "language_info": {
   "codemirror_mode": {
    "name": "ipython",
    "version": 3
   },
   "file_extension": ".py",
   "mimetype": "text/x-python",
   "name": "python",
   "nbconvert_exporter": "python",
   "pygments_lexer": "ipython3",
   "version": "3.8.6"
  }
 },
 "nbformat": 4,
 "nbformat_minor": 5
}
