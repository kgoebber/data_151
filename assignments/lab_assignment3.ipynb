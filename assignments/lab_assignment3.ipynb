{
 "cells": [
  {
   "cell_type": "markdown",
   "id": "87fef60f-5adf-4e95-a7e1-89cf01467e37",
   "metadata": {},
   "source": [
    "# Lab Assignment #3\n",
    "## Introduction to Matplotlib\n",
    "Use this notebook to develop your answers for each of the questions. Turn in this notebook via the following Google Folder. Make sure to submit it in the correct assignment folder and to uniquely name your file using the following nomenclature:\n",
    "\n",
    "`lab_assignment3_<username>.ipynb`\n",
    "    \n",
    "where `<username>` is your DataVU login username.\n",
    "\n",
    "https://drive.google.com/drive/folders/1JJHpuG0bOt-NK9L-T_SjIykzSieBCno5?usp=sharing\n",
    "\n",
    "**Be sure to rename your file before you add it to the Google Shared Drive.**"
   ]
  },
  {
   "cell_type": "markdown",
   "id": "c5f76841-6d67-43c9-9cca-df1efaae4a40",
   "metadata": {},
   "source": [
    "## Data\n",
    "The data for this assignment comes from the NASDAQ exchange (https://www.nasdaq.com/market-activity/). The following are the stock symbols associated with their parent company.\n",
    "\n",
    "| Symbol | Parent Company |\n",
    "| - | - |\n",
    "| FB | Facebook, Inc. |\n",
    "| AMZN | Amazon.com, Inc. |\n",
    "| GOOGL | Alphabet Inc. (Google) |\n",
    "| TSLA | Tesla, Inc. |\n",
    "| AAPL | Apple, Inc. |\n",
    "| SBUX | Starbucks, Inc. |\n",
    "\n",
    "All data contained within the files from from early September 2020 - early September 2021.\n",
    "\n",
    "Example reading of the file using Pandas:\n",
    "\n",
    "```python\n",
    "df = pd.read_csv('SBUX_Sept2020_Sept2021.csv', usecols=[0, 1, 2],\n",
    "                 converters={'Close/Last': lambda s: float(s.replace('$', ''))})\n",
    "```\n",
    "Here we are only going to read in the first three columns, and use a converter lambda function to get rid of the dollar sign and make the close values into a float type."
   ]
  },
  {
   "cell_type": "code",
   "execution_count": 1,
   "id": "fcf34b52-0e3e-476d-8578-49fbcfe7c9c0",
   "metadata": {},
   "outputs": [],
   "source": [
    "import matplotlib.pyplot as plt\n",
    "import numpy as np\n",
    "import pandas as pd"
   ]
  },
  {
   "cell_type": "markdown",
   "id": "2434a5ce-9977-47ea-bc24-55c4ccc4623d",
   "metadata": {},
   "source": [
    "### Question #1\n",
    "Read in and plot the Apple, Inc. closing price over the past year, appropriately labeling the figure."
   ]
  },
  {
   "cell_type": "code",
   "execution_count": null,
   "id": "a94b2162-ff06-47ad-b651-c818c4ec60cc",
   "metadata": {},
   "outputs": [],
   "source": []
  },
  {
   "cell_type": "markdown",
   "id": "ad09acc3-a877-4523-a937-540aaf0f64d5",
   "metadata": {},
   "source": [
    "### Question #2\n",
    "Read in the data for Amazon, Facebook, Apple, and Google and plot all four closing prices over the past year on the same plot. Be sure to give each line a unique color and appropriately label all elements of the figure. Include a legend to identify the different companies with their stock prices and make any other changes to make the best plot possible.\n",
    "\n",
    "Additionally, print out for each of the companies the following:\n",
    "* Maximum stock price for the year and when it occurred\n",
    "* Minimunm stock price of the year and when it occurred\n",
    "* The change in value over the course of the year"
   ]
  },
  {
   "cell_type": "code",
   "execution_count": null,
   "id": "ad02e6da-9ff0-488c-ab45-0252c4bc4d4c",
   "metadata": {},
   "outputs": [],
   "source": []
  },
  {
   "cell_type": "markdown",
   "id": "d5139075-45eb-4680-b30a-ffd3817a08e0",
   "metadata": {},
   "source": [
    "### Question #3\n",
    "For the same companies identified in Question #2 (Amazon, Facebook, Apple, and Google), plot their volumes over the course of the year, all on the same plot. Be sure to give each line a unique color and appropriately label all elements of the figure. Include a legend to identify the different companies with their stock prices and make any other changes to make the best plot possible.\n",
    "\n",
    "Write code to identify which stock had the the greatest volume over the course of the year."
   ]
  },
  {
   "cell_type": "code",
   "execution_count": null,
   "id": "b54e7988-38d1-4300-bf33-24c7f0c12e58",
   "metadata": {},
   "outputs": [],
   "source": []
  },
  {
   "cell_type": "markdown",
   "id": "9db139c9-63c0-44a3-9546-aae8d8d86f8f",
   "metadata": {},
   "source": [
    "### Question #4\n",
    "Read in data for Starbucks and Tesla and create a scatter plot of the closing prices.\n",
    "\n",
    "Describe the relationship between these two stock closing prices as evidenced in the plot you created."
   ]
  },
  {
   "cell_type": "code",
   "execution_count": null,
   "id": "79b0caa4-3b75-47c4-8041-601986b056b5",
   "metadata": {},
   "outputs": [],
   "source": []
  },
  {
   "cell_type": "markdown",
   "id": "c64ec007-c27b-4ae1-bc97-853245ee0d7d",
   "metadata": {},
   "source": [
    "### Question #5\n",
    "Read in the ORD daily weather data from 2011 and plot a histogram for the daily maximum temperature and daily minimum temperature. Use evenly spaced bins of 10 to 100 F for the maximum Temperature and -20 to 90 F for the minimum temperature.\n",
    "\n",
    "Are the distributions of maximum and minimum temperature normally distributed for 2011? Explain.\n"
   ]
  },
  {
   "cell_type": "code",
   "execution_count": null,
   "id": "10ffafe9-85d8-43fb-a662-a04455c7dacd",
   "metadata": {},
   "outputs": [],
   "source": []
  }
 ],
 "metadata": {
  "kernelspec": {
   "display_name": "Python 3 (ipykernel)",
   "language": "python",
   "name": "python3"
  },
  "language_info": {
   "codemirror_mode": {
    "name": "ipython",
    "version": 3
   },
   "file_extension": ".py",
   "mimetype": "text/x-python",
   "name": "python",
   "nbconvert_exporter": "python",
   "pygments_lexer": "ipython3",
   "version": "3.8.6"
  }
 },
 "nbformat": 4,
 "nbformat_minor": 5
}
