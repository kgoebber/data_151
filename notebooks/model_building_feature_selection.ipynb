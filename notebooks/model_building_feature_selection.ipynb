{
 "cells": [
  {
   "cell_type": "code",
   "execution_count": null,
   "id": "ad623c08-aa67-441f-b460-5cc12b947442",
   "metadata": {},
   "outputs": [],
   "source": [
    "%matplotlib inline\n",
    "import matplotlib.pyplot as plt\n",
    "import numpy as np\n",
    "import pandas as pd\n",
    "import seaborn as sns"
   ]
  },
  {
   "cell_type": "markdown",
   "id": "4a3bece5-92fa-45e3-9adc-1b5d0823b487",
   "metadata": {},
   "source": [
    "# Model Building and Feature Selection\n"
   ]
  },
  {
   "cell_type": "markdown",
   "id": "f7a6dd15-b521-45b2-b3d9-a6c332c380de",
   "metadata": {},
   "source": [
    "## Read Data and Pre-process"
   ]
  },
  {
   "cell_type": "code",
   "execution_count": null,
   "id": "2f8fb19b-6b99-4b30-8dd3-fd0da64ad9a2",
   "metadata": {},
   "outputs": [],
   "source": [
    "# Read data\n",
    "df = pd.read_csv('https://datahub.io/machine-learning/iris/r/iris.csv')\n",
    "\n",
    "# Create new column to make numeric values of the three classes of irises\n",
    "reclass = {'Iris-setosa': 1, 'Iris-versicolor': 3, 'Iris-virginica': 5}\n",
    "df['reclass'] = df['class'].map(reclass)"
   ]
  },
  {
   "cell_type": "code",
   "execution_count": null,
   "id": "06760b96-4016-4193-97e0-5315179ebc2a",
   "metadata": {},
   "outputs": [],
   "source": [
    "df"
   ]
  },
  {
   "cell_type": "markdown",
   "id": "c8d981bf-6969-440a-be52-ad0694dd79df",
   "metadata": {},
   "source": [
    "## Feature Selection\n",
    "\n",
    "Inspect data to find features that are:\n",
    "* irrelevant and noisy\n",
    "* weakly relevant and redundant\n",
    "* weakly relevant and non-redundant\n",
    "* strongly relevant\n",
    "\n",
    "Look at heatmap of correlation coefficients"
   ]
  },
  {
   "cell_type": "code",
   "execution_count": null,
   "id": "485474bc-7622-4b20-9d8d-a22e216cb59b",
   "metadata": {},
   "outputs": [],
   "source": [
    "sns.heatmap(df.corr(), annot=True, cmap=plt.cm.coolwarm_r, vmin=-1, vmax=1);"
   ]
  },
  {
   "cell_type": "markdown",
   "id": "6c9801b9-ae9c-447b-b523-4c04b420046b",
   "metadata": {},
   "source": [
    "Nothing too weakly relevant, and the lowest correlation is anti-correlated with the other variables, so it likely has discriminatory value to keep."
   ]
  },
  {
   "cell_type": "markdown",
   "id": "7d536875-3685-429b-a48f-5448dfc429c6",
   "metadata": {},
   "source": [
    "## Split Data\n",
    "\n",
    "1. Split data into the feature and target classes.\n",
    "\n",
    "2. Split the data into a training and testing data sets.\n",
    "\n",
    "Scikit-Learn: https://scikit-learn.org/stable/index.html"
   ]
  },
  {
   "cell_type": "code",
   "execution_count": null,
   "id": "a111a074-2bb7-4c4f-9f2b-0c38e8a1f857",
   "metadata": {},
   "outputs": [],
   "source": [
    "# First split data into feature (X) and target (y) matrix\n",
    "X_iris = df['sepallength'].values[:, np.newaxis]\n",
    "y_iris = df['class']"
   ]
  },
  {
   "cell_type": "code",
   "execution_count": null,
   "id": "89e9eb7d-f6ec-4f14-9646-7e2f72d20792",
   "metadata": {},
   "outputs": [],
   "source": [
    "# Split data into training and testing sets\n",
    "from sklearn.model_selection import train_test_split\n",
    "Xtrain, Xtest, ytrain, ytest = train_test_split(X_iris, y_iris,\n",
    "                                                random_state=1)"
   ]
  },
  {
   "cell_type": "code",
   "execution_count": null,
   "id": "7091a7cd-c3f3-410b-bae5-c2dcf968d906",
   "metadata": {},
   "outputs": [],
   "source": [
    "print(f'The shape of the feature training matrix is {Xtrain.shape}.')\n",
    "print(f'The shape of the target training matrix is {ytrain.shape}.')"
   ]
  },
  {
   "cell_type": "code",
   "execution_count": null,
   "id": "170ea429-0fb3-41c8-a21f-7617a811fa36",
   "metadata": {},
   "outputs": [],
   "source": [
    "print(f'The shape of the feature testing matrix is {Xtest.shape}.')\n",
    "print(f'The shape of the target testing matrix is {ytest.shape}.')"
   ]
  },
  {
   "cell_type": "markdown",
   "id": "b2c85f3c-ace4-4673-b23c-d136f432d97c",
   "metadata": {},
   "source": [
    "## Model"
   ]
  },
  {
   "cell_type": "markdown",
   "id": "907448ce-21e1-4b67-9a1a-35cb8c7b9ccc",
   "metadata": {
    "editable": true
   },
   "source": [
    "### Basics of the Scikit-Learn API\n",
    "\n",
    "Most commonly, the steps in using the Scikit-Learn estimator API are as follows\n",
    "(we will step through a handful of detailed examples in the sections that follow).\n",
    "\n",
    "1. Choose a class of model by importing the appropriate estimator class from Scikit-Learn.\n",
    "2. Choose model hyperparameters by instantiating this class with desired values.\n",
    "3. Arrange data into a features matrix and target vector following the discussion above.\n",
    "4. Fit the model to your data by calling the ``fit()`` method of the model instance.\n",
    "5. Apply the Model to new data:\n",
    "   - For supervised learning, often we predict labels for unknown data using the ``predict()`` method.\n",
    "   - For unsupervised learning, we often transform or infer properties of the data using the ``transform()`` or ``predict()`` method.\n",
    "\n",
    "We will now step through several simple examples of applying supervised and unsupervised learning methods.\n",
    "\n",
    "*From the Python Data Science Handbook section 5.2*"
   ]
  },
  {
   "cell_type": "code",
   "execution_count": null,
   "id": "5a51f4c2-9eb2-46b5-a045-04e241d29037",
   "metadata": {},
   "outputs": [],
   "source": [
    "from sklearn.naive_bayes import GaussianNB # 1. choose model class\n",
    "model = GaussianNB( )                       # 2. instantiate model\n",
    "model.fit(Xtrain, ytrain)                  # 3. fit model to data\n",
    "y_model = model.predict(Xtest)             # 4. predict on new data"
   ]
  },
  {
   "cell_type": "markdown",
   "id": "4c124766-7954-4999-b753-ea90b61afbc1",
   "metadata": {},
   "source": [
    "## Model Evaluation\n",
    "\n",
    "Let's start with just checking each true value with its modelled value and mark when they are mis-matched."
   ]
  },
  {
   "cell_type": "code",
   "execution_count": null,
   "id": "cb7d5c6e-719e-4c9e-9e00-2954a8d99c5b",
   "metadata": {},
   "outputs": [],
   "source": [
    "# Use loop to check each value, since we only have 38 values reserved for\n",
    "# testing, this isn't too onerous.\n",
    "for i in range(len(y_model)):\n",
    "    print(f'True value: {ytest.iloc[i]:15s} Modelled Value: {y_model[i]}')\n",
    "    if ytest.iloc[i] != y_model[i]:\n",
    "        print('Missed prediction')"
   ]
  },
  {
   "cell_type": "markdown",
   "id": "0322f052-874a-44f5-bb9c-590a1f4cf3b1",
   "metadata": {},
   "source": [
    "### Confusion Matrix\n",
    "A confusion matrix is a simplified way of checking how the forecasts compared to the known values. Since we have three possible categories, we should get a 3X3 matrix and desire that all of the values fall on the diagonal, which would imply a perfect prediction."
   ]
  },
  {
   "cell_type": "code",
   "execution_count": null,
   "id": "b23b2e66-8328-4b22-a1d3-1d1ce0cf25f8",
   "metadata": {},
   "outputs": [],
   "source": [
    "from sklearn.metrics import confusion_matrix\n",
    "\n",
    "# Confusion matrix function makes easy work of obtaining matrix\n",
    "mat = confusion_matrix(ytest, y_model)\n",
    "\n",
    "# Use seaborn to make a heatmap of the confusion matrix\n",
    "sns.heatmap(mat.T, square=True, annot=True, fmt='d', cbar=False,\n",
    "            xticklabels=model.classes_, yticklabels=model.classes_, cmap=plt.cm.BuPu)\n",
    "plt.xlabel('true label')\n",
    "plt.ylabel('predicted label');"
   ]
  },
  {
   "cell_type": "markdown",
   "id": "cbfbada8-1bad-42a0-ac2c-b76886744f47",
   "metadata": {},
   "source": [
    "## Build a better model\n",
    "\n",
    "Now let's keep more than one predictor to see if we can improve our overall model.\n",
    "\n",
    "Start by resubsetting your data, and only dropping the uneeded columns ('class', 'reclass') and then re-splitting into train and test datasets."
   ]
  },
  {
   "cell_type": "code",
   "execution_count": null,
   "id": "314618a2-eaa7-4a10-b1bb-4a7fe9a987aa",
   "metadata": {},
   "outputs": [],
   "source": [
    "# Get feature matrix (four predictors)\n",
    "X_iris = df.drop(columns=['class', 'reclass'])\n",
    "\n",
    "# Get target matrix\n",
    "y_iris = df['class']\n",
    "\n",
    "# Split dataset into train, test sets\n",
    "Xtrain, Xtest, ytrain, ytest = train_test_split(X_iris, y_iris,\n",
    "                                                random_state=1)"
   ]
  },
  {
   "cell_type": "code",
   "execution_count": null,
   "id": "a689703b-e63c-4cfa-a0d6-4c8c35501272",
   "metadata": {},
   "outputs": [],
   "source": [
    "# Set model type just to be sure\n",
    "model = GaussianNB()                       # 2. instantiate model\n",
    "\n",
    "# Fit with new trainging data\n",
    "model.fit(Xtrain, ytrain)                  # 3. fit model to data\n",
    "\n",
    "# Predict the test data to evaluate model\n",
    "y_model = model.predict(Xtest)             # 4. predict on new data"
   ]
  },
  {
   "cell_type": "markdown",
   "id": "ab2b9aca-9750-4182-9e69-e659465901f6",
   "metadata": {},
   "source": [
    "### Other Evaluation Methods\n",
    "\n",
    "Accuracy Score computes a subset accuracy score for a multi-label classification model.\n",
    "\n",
    "Classification Report gives a more detailed look at the specific scores for each classification in the prediction scheme.\n",
    "\n",
    "Other measures: https://scikit-learn.org/stable/modules/model_evaluation.html"
   ]
  },
  {
   "cell_type": "code",
   "execution_count": null,
   "id": "3ab00da3-be52-4d06-a0a7-ecc0ae60e1a7",
   "metadata": {},
   "outputs": [],
   "source": [
    "from sklearn.metrics import accuracy_score, classification_report\n",
    "accuracy_score(ytest, y_model)"
   ]
  },
  {
   "cell_type": "code",
   "execution_count": null,
   "id": "9061fe20-a310-4bc3-81d7-3334a61c9ef1",
   "metadata": {},
   "outputs": [],
   "source": [
    "print(classification_report(ytest, y_model))"
   ]
  },
  {
   "cell_type": "code",
   "execution_count": null,
   "id": "9d66c65b-7828-47e2-8a84-81385084f426",
   "metadata": {},
   "outputs": [],
   "source": [
    "# Show the confusion matrix for our better model\n",
    "mat = confusion_matrix(ytest, y_model)\n",
    "sns.heatmap(mat.T, square=True, annot=True, fmt='d', cbar=False,\n",
    "            xticklabels=model.classes_, yticklabels=model.classes_, cmap=plt.cm.BuPu)\n",
    "plt.xlabel('true label')\n",
    "plt.ylabel('predicted label');"
   ]
  },
  {
   "cell_type": "markdown",
   "id": "2314a81e-99d7-4e67-adbc-8ef8f625aae8",
   "metadata": {},
   "source": [
    "## Further Reading\n",
    "\n",
    "For a deeper dive into the basics of Scikit-Learn, Hyper-parameters, Model Evaluation, and Feature Engineering, see Chapter 5.2, 5.3, and 5.4 from the Python Data Science Handbook, especially the Google Colab notebooks."
   ]
  },
  {
   "cell_type": "code",
   "execution_count": null,
   "id": "5cfe67d8-dba8-4a1c-954f-3156e0d937cb",
   "metadata": {},
   "outputs": [],
   "source": []
  }
 ],
 "metadata": {
  "kernelspec": {
   "display_name": "Python 3 (ipykernel)",
   "language": "python",
   "name": "python3"
  },
  "language_info": {
   "codemirror_mode": {
    "name": "ipython",
    "version": 3
   },
   "file_extension": ".py",
   "mimetype": "text/x-python",
   "name": "python",
   "nbconvert_exporter": "python",
   "pygments_lexer": "ipython3",
   "version": "3.8.6"
  }
 },
 "nbformat": 4,
 "nbformat_minor": 5
}
