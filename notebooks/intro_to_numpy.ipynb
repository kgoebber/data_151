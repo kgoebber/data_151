{
 "cells": [
  {
   "cell_type": "markdown",
   "id": "0b05b642-8900-4424-b7c3-0e77f2373681",
   "metadata": {},
   "source": [
    "# Introduction to Python for Data Science\n",
    "\n",
    "Working with lots of data will mean we want to utilize existing third-party Python modules to help us read and analyze data. There are two primary packages that we'll look at to begin unlocking the tools available that will enable our study of data science: Numpy and Pandas."
   ]
  },
  {
   "cell_type": "markdown",
   "id": "2b368b23-a9aa-45d1-8dd9-8b7b8f1430a5",
   "metadata": {},
   "source": [
    "## Importing Modules\n",
    "\n",
    "With base Python being small, it requires us to bring in other third-party modules which have been built to accomplish certain tasks that are partinent to large, medium, and small swaths of problems. Some of the most important modules that we'll use this semester are Numpy, Pandas, Matplotlib, and Scikit-Learn. These packages are, to some extent, inter-related and used by many within the scientific field, including Data Science. Instead of writing our own code to accomplish specific tasks (e.g., reading in data, computing correlations, etc.) we'll utilize the functions and methods that are a part of these module code bases to make it easier for us to get to doing data science.\n",
    "\n",
    "So how do we bring in these moduels?\n",
    "\n",
    "> The `import` statement!\n",
    "\n",
    "Often we bring in a module using an alias (shorthand) to be able to refer to its functions while preserving the name spaces with other modules or local functions. The common format is\n",
    "\n",
    "```python\n",
    "import <module name> as <alias>\n",
    "```\n",
    "\n",
    "Throughout the semester, we'll use the most common methods for importing modules that are supported by the packages themselves."
   ]
  },
  {
   "cell_type": "markdown",
   "id": "9b464ce4-5997-4a00-8e2d-560bd3038e2a",
   "metadata": {},
   "source": [
    "## Numpy\n",
    "\n",
    "Numpy is a module developed to make array-based calculations and processes fast and is built upon a C-framework.\n",
    "\n",
    "Important Topics:\n",
    "* Reading Data\n",
    "* Mathematical Operations with Arrays\n",
    "* Indexing and Slicing\n",
    "* Common data object methods\n",
    "* Statistical methods\n",
    "\n",
    "Numpy Documentation: https://numpy.org/doc/stable/user/absolute_beginners.html"
   ]
  },
  {
   "cell_type": "code",
   "execution_count": null,
   "id": "1b48b970-9eec-44ad-8467-04cebc73ef40",
   "metadata": {},
   "outputs": [],
   "source": [
    "import numpy as np\n",
    "import pandas as pd"
   ]
  },
  {
   "cell_type": "markdown",
   "id": "1bb8c43d-e7b3-42b7-a4b2-d64e5f30d0ee",
   "metadata": {
    "id": "b8-vFxkRU8oY"
   },
   "source": [
    "# The Basics of NumPy Arrays"
   ]
  },
  {
   "cell_type": "markdown",
   "id": "173bbe08-6cfc-41c0-9db3-1ba0fba196d1",
   "metadata": {
    "id": "ouBBETX1U8oY"
   },
   "source": [
    "Data manipulation in Python is nearly synonymous with NumPy array manipulation: even newer tools like Pandas ([Chapter 3](03.00-Introduction-to-Pandas.ipynb)) are built around the NumPy array.\n",
    "This section will present several examples of using NumPy array manipulation to access data and subarrays, and to split, reshape, and join the arrays.\n",
    "While the types of operations shown here may seem a bit dry and pedantic, they comprise the building blocks of many other examples used throughout the book.\n",
    "Get to know them well!\n",
    "\n",
    "We'll cover a few categories of basic array manipulations here:\n",
    "\n",
    "- *Attributes of arrays*: Determining the size, shape\n",
    "- *Indexing of arrays*: Getting and setting the value of individual array elements\n",
    "- *Slicing of arrays*: Getting and setting smaller subarrays within a larger array\n",
    "\n",
    "Notebook heavily draws from the notebooks available with the Python Data Science Handbook by Jake VanderPlas. (https://colab.research.google.com/github/jakevdp/PythonDataScienceHandbook/blob/master/notebooks/Index.ipynb)"
   ]
  },
  {
   "cell_type": "markdown",
   "id": "dfed8d15-1ea6-4bd3-9229-fb6f5f76379a",
   "metadata": {
    "id": "Cl2cZPm3U8oZ"
   },
   "source": [
    "## NumPy Array Attributes"
   ]
  },
  {
   "cell_type": "markdown",
   "id": "daf51ddb-50c4-40cc-b23a-e60fba32c1c1",
   "metadata": {
    "id": "2UuXEL74U8oZ"
   },
   "source": [
    "First let's discuss some useful array attributes.\n",
    "We'll start by defining three random arrays, a one-dimensional, two-dimensional, and three-dimensional array.\n",
    "We'll use NumPy's random number generator, which we will *seed* with a set value in order to ensure that the same random arrays are generated each time this code is run:"
   ]
  },
  {
   "cell_type": "code",
   "execution_count": null,
   "id": "7ef1f1f5-53d2-45e1-b1c1-8cd6c50f8939",
   "metadata": {
    "id": "McGshY-MU8oZ"
   },
   "outputs": [],
   "source": [
    "np.random.seed(0)  # seed for reproducibility\n",
    "\n",
    "x1 = np.random.randint(10, size=6)  # One-dimensional array\n",
    "x2 = np.random.randint(10, size=(3, 4))  # Two-dimensional array\n",
    "x3 = np.random.randint(10, size=(3, 4, 5))  # Three-dimensional array"
   ]
  },
  {
   "cell_type": "markdown",
   "id": "6cc9bc33-6c58-4ea5-b223-5f2c90a19f65",
   "metadata": {
    "id": "VY5mTSt9U8oa"
   },
   "source": [
    "Each array has attributes ``ndim`` (the number of dimensions), ``shape`` (the size of each dimension), and ``size`` (the total size of the array):"
   ]
  },
  {
   "cell_type": "code",
   "execution_count": null,
   "id": "d47a18d9-ce99-44e8-9a5f-a720ae4926a3",
   "metadata": {
    "id": "kxRidPy4U8oa",
    "outputId": "2db47c91-4a58-4e83-c912-1a6d35b82961"
   },
   "outputs": [],
   "source": [
    "print(\"x3 ndim: \", x3.ndim)\n",
    "print(\"x3 shape:\", x3.shape)\n",
    "print(\"x3 size: \", x3.size)"
   ]
  },
  {
   "cell_type": "code",
   "execution_count": null,
   "id": "eca897b1-4228-474b-a31e-758b036d3ad4",
   "metadata": {},
   "outputs": [],
   "source": []
  },
  {
   "cell_type": "markdown",
   "id": "82f37c24-cae0-4960-9783-106bed03735c",
   "metadata": {
    "id": "jQqcx6IHU8ob"
   },
   "source": [
    "Another useful attribute is the ``dtype``, the data type of the array (which we discussed previously in [Understanding Data Types in Python](02.01-Understanding-Data-Types.ipynb)):"
   ]
  },
  {
   "cell_type": "code",
   "execution_count": null,
   "id": "9bcd5610-2fef-4c91-8359-f4f7e205a5dd",
   "metadata": {
    "id": "F97flcUxU8ob",
    "outputId": "27242611-da6e-47f1-dab2-d8f55550d09d"
   },
   "outputs": [],
   "source": [
    "print(\"dtype:\", x3.dtype)"
   ]
  },
  {
   "cell_type": "code",
   "execution_count": null,
   "id": "5bc3df33-240b-40e5-89af-c41225aea5da",
   "metadata": {},
   "outputs": [],
   "source": []
  },
  {
   "cell_type": "markdown",
   "id": "f579fcea-c20e-4d0e-8ddc-e234c2e18615",
   "metadata": {
    "id": "oo_-7165U8oc"
   },
   "source": [
    "## Array Indexing: Accessing Single Elements"
   ]
  },
  {
   "cell_type": "markdown",
   "id": "ca1013ae-d398-4406-a427-f9662e9b6f5f",
   "metadata": {
    "id": "yGmfZOtOU8od"
   },
   "source": [
    "If you are familiar with Python's standard list indexing, indexing in NumPy will feel quite familiar.\n",
    "In a one-dimensional array, the $i^{th}$ value (counting from zero) can be accessed by specifying the desired index in square brackets, just as with Python lists:"
   ]
  },
  {
   "cell_type": "code",
   "execution_count": null,
   "id": "458731cd-3631-4900-8ca8-b54b11eaf917",
   "metadata": {},
   "outputs": [],
   "source": []
  },
  {
   "cell_type": "markdown",
   "id": "722bf445-ea90-4f46-90ad-f9d066eb3c10",
   "metadata": {
    "id": "8FoqqJdaU8of"
   },
   "source": [
    "In a multi-dimensional array, items can be accessed using a comma-separated tuple of indices:"
   ]
  },
  {
   "cell_type": "code",
   "execution_count": null,
   "id": "befb7faf-d23e-448e-a1e5-d0179a2d466d",
   "metadata": {},
   "outputs": [],
   "source": []
  },
  {
   "cell_type": "markdown",
   "id": "245508c0-40bc-4d44-984b-8d44d272be05",
   "metadata": {
    "id": "MypdXa0BU8oi"
   },
   "source": [
    "## Array Slicing: Accessing Subarrays"
   ]
  },
  {
   "cell_type": "markdown",
   "id": "f4346b5a-7b71-45c9-af6b-fd3147e56031",
   "metadata": {
    "id": "FiebNFDbU8oj"
   },
   "source": [
    "Just as we can use square brackets to access individual array elements, we can also use them to access subarrays with the *slice* notation, marked by the colon (``:``) character.\n",
    "The NumPy slicing syntax follows that of the standard Python list; to access a slice of an array ``x``, use this:\n",
    "``` python\n",
    "x[start:stop:step]\n",
    "```\n",
    "If any of these are unspecified, they default to the values ``start=0``, ``stop=``*``size of dimension``*, ``step=1``.\n",
    "We'll take a look at accessing sub-arrays in one dimension and in multiple dimensions."
   ]
  },
  {
   "cell_type": "markdown",
   "id": "065bafc0-19b3-4d1e-b7ad-5abe048b5ec7",
   "metadata": {
    "id": "4VSLM0yNU8ok"
   },
   "source": [
    "### One-dimensional subarrays"
   ]
  },
  {
   "cell_type": "code",
   "execution_count": null,
   "id": "e940f447-b181-4c4b-8ea9-1e234c05ffd0",
   "metadata": {
    "id": "Aqbu4Vh5U8ol",
    "outputId": "63f8c02d-405f-41ef-a476-93911cd66f9c"
   },
   "outputs": [],
   "source": [
    "x = np.arange(10)\n",
    "x"
   ]
  },
  {
   "cell_type": "code",
   "execution_count": null,
   "id": "8321b61a-899b-4124-a5ff-7df5315f1da9",
   "metadata": {
    "id": "bsPPpUI9U8om",
    "outputId": "742eba23-d5f5-4fd8-d56b-d22220c86a29"
   },
   "outputs": [],
   "source": [
    "x[:5]  # first five elements"
   ]
  },
  {
   "cell_type": "code",
   "execution_count": null,
   "id": "e85ad7c2-4f48-4801-821e-28446bdb39ae",
   "metadata": {},
   "outputs": [],
   "source": []
  },
  {
   "cell_type": "markdown",
   "id": "c74aee05-aef0-4020-846f-36d65e719010",
   "metadata": {
    "id": "J1EvD-abU8oq"
   },
   "source": [
    "### Multi-dimensional subarrays\n",
    "\n",
    "Multi-dimensional slices work in the same way, with multiple slices separated by commas.\n",
    "For example:"
   ]
  },
  {
   "cell_type": "code",
   "execution_count": null,
   "id": "d38e5498-f7d1-409f-b33b-965fcf18b5d7",
   "metadata": {
    "id": "5FSpCzZEU8oq",
    "outputId": "33bc0840-9f51-4c5e-f8e9-c1a6164feec3",
    "tags": []
   },
   "outputs": [],
   "source": [
    "x2"
   ]
  },
  {
   "cell_type": "code",
   "execution_count": null,
   "id": "994f9715-0140-4e32-b3c8-851f04d2ce0d",
   "metadata": {},
   "outputs": [],
   "source": []
  },
  {
   "cell_type": "markdown",
   "id": "110642db-c57c-41b0-a766-20c5a6c55288",
   "metadata": {
    "id": "LM-KYwyFU6z7"
   },
   "source": [
    "### Array arithmetic\n",
    "\n",
    "NumPy's ufuncs feel very natural to use because they make use of Python's native arithmetic operators.\n",
    "The standard addition, subtraction, multiplication, and division can all be used:"
   ]
  },
  {
   "cell_type": "code",
   "execution_count": null,
   "id": "703be89f-4b5f-4a90-a669-d8fa0f313cd3",
   "metadata": {
    "id": "OLYLu2blU6z8",
    "outputId": "0000ed97-dc66-4f70-c8d8-a4ec52808382"
   },
   "outputs": [],
   "source": [
    "x = np.arange(4)\n",
    "print(\"x     =\", x)\n",
    "print(\"x + 5 =\", x + 5)\n",
    "print(\"x - 5 =\", x - 5)\n",
    "print(\"x * 2 =\", x * 2)\n",
    "print(\"x / 2 =\", x / 2)\n",
    "print(\"x // 2 =\", x // 2)  # floor division"
   ]
  },
  {
   "cell_type": "markdown",
   "id": "c468fe27-1df7-489d-b71e-6527062cf184",
   "metadata": {
    "id": "jtfoZJCLU6z8"
   },
   "source": [
    "There is also a unary ufunc for negation, and a ``**`` operator for exponentiation, and a ``%`` operator for modulus:"
   ]
  },
  {
   "cell_type": "code",
   "execution_count": null,
   "id": "3e79e614-7e43-4502-802f-fc4b80645be0",
   "metadata": {
    "id": "mzh1RAjQU6z8",
    "outputId": "79d7c998-8301-4b77-f854-1148827c7b94"
   },
   "outputs": [],
   "source": [
    "print(\"-x     = \", -x)\n",
    "print(\"x ** 2 = \", x ** 2)\n",
    "print(\"x % 2  = \", x % 2)"
   ]
  },
  {
   "cell_type": "markdown",
   "id": "c44cc63c-58bd-4598-9627-bbbd0dc1aabb",
   "metadata": {
    "id": "34RPjwZgU6z9"
   },
   "source": [
    "In addition, these can be strung together however you wish, and the standard order of operations is respected:"
   ]
  },
  {
   "cell_type": "code",
   "execution_count": null,
   "id": "776c3e3b-55b8-47e3-896e-de35853a1586",
   "metadata": {
    "id": "AazQJtbhU6z9",
    "outputId": "e238d1a7-ee6d-49ea-b6c4-0a2e1509208f"
   },
   "outputs": [],
   "source": [
    "-(0.5*x + 1) ** 2"
   ]
  },
  {
   "cell_type": "code",
   "execution_count": null,
   "id": "2afa93f2-051a-41ca-a421-af7600f63b26",
   "metadata": {},
   "outputs": [],
   "source": []
  },
  {
   "cell_type": "markdown",
   "id": "3d524ddd-2f97-48e5-9e5e-6f51821e7e7b",
   "metadata": {
    "id": "oZAZYn7lUtaR",
    "tags": []
   },
   "source": [
    "# Aggregations: Min, Max, and Everything In Between"
   ]
  },
  {
   "cell_type": "markdown",
   "id": "78baffaa-831d-4735-9f45-bd5cda4a9964",
   "metadata": {
    "id": "AzIQLxLzUtaR"
   },
   "source": [
    "Often when faced with a large amount of data, a first step is to compute summary statistics for the data in question.\n",
    "Perhaps the most common summary statistics are the mean and standard deviation, which allow you to summarize the \"typical\" values in a dataset, but other aggregates are useful as well (the sum, product, median, minimum and maximum, quantiles, etc.).\n",
    "\n",
    "NumPy has fast built-in aggregation functions for working on arrays; we'll discuss and demonstrate some of them here."
   ]
  },
  {
   "cell_type": "markdown",
   "id": "7bdf9d84-5162-4e66-a602-9924e0bff7ab",
   "metadata": {
    "id": "tifougDaUtaR"
   },
   "source": [
    "## Summing the Values in an Array\n",
    "\n",
    "As a quick example, consider computing the sum of all values in an array.\n",
    "Python itself can do this using the built-in ``sum`` function:"
   ]
  },
  {
   "cell_type": "code",
   "execution_count": null,
   "id": "d9bb049e-e4e1-4ebd-bc50-5ff5031b477b",
   "metadata": {
    "id": "gF9lKQbwUtaT",
    "outputId": "4377974b-5c23-4764-e0d9-2639166b1a70"
   },
   "outputs": [],
   "source": [
    "L = np.random.random(100)\n",
    "sum(L)"
   ]
  },
  {
   "cell_type": "markdown",
   "id": "c54afea5-e832-4ec8-b8da-180805b67108",
   "metadata": {
    "id": "AU4__w7fUtaV"
   },
   "source": [
    "The syntax is quite similar to that of NumPy's ``sum`` function, and the result is the same in the simplest case:"
   ]
  },
  {
   "cell_type": "code",
   "execution_count": null,
   "id": "07851de1-2352-471f-9339-5549e2751e86",
   "metadata": {
    "id": "pJ1LXkkbUtaV",
    "outputId": "e3e3785e-a300-4bc9-eed4-b8c36b79ccea"
   },
   "outputs": [],
   "source": [
    "np.sum(L)"
   ]
  },
  {
   "cell_type": "markdown",
   "id": "27fcb797-8e85-4970-92ac-ad2172ed90ea",
   "metadata": {
    "id": "JrAmVkhXUtaW"
   },
   "source": [
    "However, because it executes the operation in compiled code, NumPy's version of the operation is computed much more quickly:"
   ]
  },
  {
   "cell_type": "code",
   "execution_count": null,
   "id": "f1a6501a-87de-4976-938b-3062b75751f5",
   "metadata": {
    "id": "er9lMzx6UtaW",
    "outputId": "280b6f57-fe07-400d-e8d0-d7ec8be1720a"
   },
   "outputs": [],
   "source": [
    "big_array = np.random.rand(1000000)\n",
    "%timeit sum(big_array)\n",
    "%timeit np.sum(big_array)"
   ]
  },
  {
   "cell_type": "markdown",
   "id": "ac153fe7-df79-4f61-84dc-a268ff74517a",
   "metadata": {
    "id": "0K87GhsXUtaX"
   },
   "source": [
    "Be careful, though: the ``sum`` function and the ``np.sum`` function are not identical, which can sometimes lead to confusion!\n",
    "In particular, their optional arguments have different meanings, and ``np.sum`` is aware of multiple array dimensions, as we will see in the following section."
   ]
  },
  {
   "cell_type": "markdown",
   "id": "23380127-407c-42c8-8e8a-f1f08a9f8714",
   "metadata": {
    "id": "bxOXW6KlUtaX"
   },
   "source": [
    "## Minimum and Maximum\n",
    "\n",
    "Similarly, Python has built-in ``min`` and ``max`` functions, used to find the minimum value and maximum value of any given array:"
   ]
  },
  {
   "cell_type": "code",
   "execution_count": null,
   "id": "890ff8b2-6642-48b7-b3ad-300164d3949c",
   "metadata": {
    "id": "nZ84CVJOUtaY",
    "outputId": "3375d619-f21e-41b7-a3fd-6cf2971c812d"
   },
   "outputs": [],
   "source": [
    "np.min(big_array), np.max(big_array)"
   ]
  },
  {
   "cell_type": "code",
   "execution_count": null,
   "id": "4d5e95af-3ca6-44e5-9c3d-c62d80c4d09a",
   "metadata": {},
   "outputs": [],
   "source": []
  },
  {
   "cell_type": "markdown",
   "id": "af25e126-6d6a-4a34-a4b7-e7b4e02a9dbe",
   "metadata": {
    "id": "HhVBjuF6Utaa"
   },
   "source": [
    "### Multi dimensional aggregates\n",
    "\n",
    "One common type of aggregation operation is an aggregate along a row or column.\n",
    "Say you have some data stored in a two-dimensional array:"
   ]
  },
  {
   "cell_type": "code",
   "execution_count": null,
   "id": "4df60cd0-0040-46e9-85aa-d19818803fa9",
   "metadata": {
    "id": "DZDBS8oVUtaa",
    "outputId": "6ece0d1c-c540-47dd-a006-5ac678cbeda1"
   },
   "outputs": [],
   "source": [
    "M = np.random.random((3, 4))\n",
    "print(M)"
   ]
  },
  {
   "cell_type": "markdown",
   "id": "3b14717a-8c3e-495b-9061-0c8d9c63ba03",
   "metadata": {
    "id": "svCp4njSUtab"
   },
   "source": [
    "By default, each NumPy aggregation function will return the aggregate over the entire array:"
   ]
  },
  {
   "cell_type": "code",
   "execution_count": null,
   "id": "90d7a7f6-7a1e-455b-885f-3d5ea3e2301e",
   "metadata": {
    "id": "zJZeu6JvUtab",
    "outputId": "b86c4155-daef-41d1-8cc8-90555d1b3077"
   },
   "outputs": [],
   "source": [
    "M.sum()"
   ]
  },
  {
   "cell_type": "markdown",
   "id": "c7dfb8ba-1f25-4053-94b4-7a4545cbbd66",
   "metadata": {
    "id": "dccyH5msUtab"
   },
   "source": [
    "Aggregation functions take an additional argument specifying the *axis* along which the aggregate is computed. For example, we can find the minimum value within each column by specifying ``axis=0``:"
   ]
  },
  {
   "cell_type": "code",
   "execution_count": null,
   "id": "508278c0-762c-4985-bc7c-987241b2a6bc",
   "metadata": {
    "id": "Ng1BJdkBUtac",
    "outputId": "4d813c05-0356-4d24-d123-e6e6fbba5c5d"
   },
   "outputs": [],
   "source": [
    "M.min(axis=0)"
   ]
  },
  {
   "cell_type": "code",
   "execution_count": null,
   "id": "2289f051-700a-4f65-9e3a-31a39f33a9ac",
   "metadata": {},
   "outputs": [],
   "source": []
  },
  {
   "cell_type": "markdown",
   "id": "3b94bfec-e59f-40dd-b0d4-b38e099fac17",
   "metadata": {
    "id": "71pg2d6XUtad"
   },
   "source": [
    "### Other aggregation functions\n",
    "\n",
    "NumPy provides many other aggregation functions, but we won't discuss them in detail here.\n",
    "Additionally, most aggregates have a ``NaN``-safe counterpart that computes the result while ignoring missing values, which are marked by the special IEEE floating-point ``NaN`` value (for a fuller discussion of missing data, see [Handling Missing Data](03.04-Missing-Values.ipynb)).\n",
    "Some of these ``NaN``-safe functions were not added until NumPy 1.8, so they will not be available in older NumPy versions.\n",
    "\n",
    "The following table provides a list of useful aggregation functions available in NumPy:\n",
    "\n",
    "|Function Name      |   NaN-safe Version  | Description                                   |\n",
    "|-------------------|---------------------|-----------------------------------------------|\n",
    "| ``np.sum``        | ``np.nansum``       | Compute sum of elements                       |\n",
    "| ``np.prod``       | ``np.nanprod``      | Compute product of elements                   |\n",
    "| ``np.mean``       | ``np.nanmean``      | Compute mean of elements                      |\n",
    "| ``np.std``        | ``np.nanstd``       | Compute standard deviation                    |\n",
    "| ``np.var``        | ``np.nanvar``       | Compute variance                              |\n",
    "| ``np.min``        | ``np.nanmin``       | Find minimum value                            |\n",
    "| ``np.max``        | ``np.nanmax``       | Find maximum value                            |\n",
    "| ``np.argmin``     | ``np.nanargmin``    | Find index of minimum value                   |\n",
    "| ``np.argmax``     | ``np.nanargmax``    | Find index of maximum value                   |\n",
    "| ``np.median``     | ``np.nanmedian``    | Compute median of elements                    |\n",
    "| ``np.percentile`` | ``np.nanpercentile``| Compute rank-based statistics of elements     |\n",
    "| ``np.any``        | N/A                 | Evaluate whether any elements are true        |\n",
    "| ``np.all``        | N/A                 | Evaluate whether all elements are true        |\n",
    "\n",
    "We will see these aggregates often throughout the rest of the book."
   ]
  },
  {
   "cell_type": "code",
   "execution_count": null,
   "id": "4a6a6d7a-cbdf-482e-93e7-f9e66fcabf0a",
   "metadata": {},
   "outputs": [],
   "source": []
  },
  {
   "cell_type": "markdown",
   "id": "60987b9a-2651-44f9-b8c3-ac2effce4ca2",
   "metadata": {
    "id": "iRh6o31dVNEq",
    "tags": []
   },
   "source": [
    "## Comparison Operators\n",
    "\n",
    "In [Computation on NumPy Arrays: Universal Functions](02.03-Computation-on-arrays-ufuncs.ipynb) we introduced ufuncs, and focused in particular on arithmetic operators. We saw that using ``+``, ``-``, ``*``, ``/``, and others on arrays leads to element-wise operations.\n",
    "NumPy also implements comparison operators such as ``<`` (less than) and ``>`` (greater than) as element-wise ufuncs.\n",
    "The result of these comparison operators is always an array with a Boolean data type.\n",
    "All six of the standard comparison operations are available:"
   ]
  },
  {
   "cell_type": "code",
   "execution_count": null,
   "id": "7c48f4fc-c44b-40a8-a730-42d10eee467e",
   "metadata": {
    "id": "wIUthpkVVNEq"
   },
   "outputs": [],
   "source": [
    "x = np.array([1, 2, 3, 4, 5])"
   ]
  },
  {
   "cell_type": "code",
   "execution_count": null,
   "id": "a44421f5-03ec-47b3-9f64-30e337c26714",
   "metadata": {
    "id": "OTEf5M5LVNEq",
    "outputId": "b62454b4-ff67-49eb-9ebf-a72257136556"
   },
   "outputs": [],
   "source": [
    "x < 3  # less than"
   ]
  },
  {
   "cell_type": "code",
   "execution_count": null,
   "id": "bb07db15-6172-44c6-8ecb-5ebfdca888ce",
   "metadata": {},
   "outputs": [],
   "source": []
  },
  {
   "cell_type": "markdown",
   "id": "5e051d11-e411-41fa-a170-62f6cf2a95c2",
   "metadata": {},
   "source": [
    "## Reading Data\n",
    "\n",
    "Reading data into your code will be a very important skill to develop. There are some datasets that will be easy to read and others that will require some thought. There are a number of excellent functions in Numpy and Pandas to read in data files. There are any number of options to help you overcome certain difficulties (missing values, header rows, etc.). It will be important to investigate the documentation for those functions when you run into problems reading in a data file.\n",
    "\n",
    "Numpy Read/Write Functions: https://numpy.org/doc/stable/user/basics.io.genfromtxt.html\n",
    "\n",
    "Pandas Read/Write Functions: https://pandas.pydata.org/docs/user_guide/io.html\n",
    "\n",
    "If you have data that have mixed types (e.g., strings and floats togther in one file), Pandas read functionality offers the best option for working with the dataset. We'll be coming back to this idea of reading and working with in our exploratory data analysis portion of the course material (and throughout the course project!)."
   ]
  },
  {
   "cell_type": "code",
   "execution_count": null,
   "id": "f322a95d-93c0-4296-9acd-107190cd6828",
   "metadata": {},
   "outputs": [],
   "source": [
    "pop = pd.read_csv('us_population_estimate_2010_2019.csv', index_col=0)"
   ]
  },
  {
   "cell_type": "code",
   "execution_count": null,
   "id": "8c0d00a0-ac16-4b78-bb45-a23e09264e8e",
   "metadata": {},
   "outputs": [],
   "source": [
    "pop"
   ]
  },
  {
   "cell_type": "code",
   "execution_count": null,
   "id": "7a1798f4-6d67-4e07-9b41-34b5e8442d17",
   "metadata": {},
   "outputs": [],
   "source": [
    "states = pop.index.to_numpy()"
   ]
  },
  {
   "cell_type": "code",
   "execution_count": null,
   "id": "912f59a4-d560-4322-aea8-2d91999816ac",
   "metadata": {},
   "outputs": [],
   "source": [
    "pop_data = pop.values"
   ]
  },
  {
   "cell_type": "code",
   "execution_count": null,
   "id": "3b7fc941-dce9-472c-a706-bc227807e60b",
   "metadata": {},
   "outputs": [],
   "source": [
    "np.percentile(pop[5:], 25)"
   ]
  },
  {
   "cell_type": "code",
   "execution_count": null,
   "id": "2ff06861-699a-4a33-8a35-f7b447d12ca0",
   "metadata": {},
   "outputs": [],
   "source": []
  }
 ],
 "metadata": {
  "kernelspec": {
   "display_name": "Python 3",
   "language": "python",
   "name": "python3"
  },
  "language_info": {
   "codemirror_mode": {
    "name": "ipython",
    "version": 3
   },
   "file_extension": ".py",
   "mimetype": "text/x-python",
   "name": "python",
   "nbconvert_exporter": "python",
   "pygments_lexer": "ipython3",
   "version": "3.7.10"
  }
 },
 "nbformat": 4,
 "nbformat_minor": 5
}
