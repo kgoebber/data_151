{
 "cells": [
  {
   "cell_type": "code",
   "execution_count": null,
   "id": "a8356f78-b333-41fd-989b-534b29320676",
   "metadata": {},
   "outputs": [],
   "source": [
    "%matplotlib inline\n",
    "import matplotlib.pyplot as plt\n",
    "import numpy as np\n",
    "import pandas as pd\n",
    "import seaborn as sns"
   ]
  },
  {
   "cell_type": "markdown",
   "id": "92828444-1433-4108-acc5-59525398fc9f",
   "metadata": {},
   "source": [
    "# Exploratory Data Analysis\n",
    "A key to any data science project is to fully understand your data and the relationships between potential predictors and the predictand. The insights gained should help identify likely paths toward machine learning (if that is the goal). As you perform exploratory data analysis (EDA) you'll want to **keep asking questions and be inquisitive about the data**. This will be a very iterative process and likely cause you to break down data in numerous ways.\n",
    "\n",
    "https://towardsdatascience.com/exploratory-data-analysis-8fc1cb20fd15"
   ]
  },
  {
   "cell_type": "markdown",
   "id": "dd2fee37-f4d3-4976-bae3-d7c622846a15",
   "metadata": {},
   "source": [
    "## Read Data\n",
    "We have been using Pandas module for reading in data this semester and the reason we have done so, is that the DataFrame object and methods associated with it will make the work of completing EDA an easier, more enjoyable task. The DataFrame data object will also be useful to feed into the Seaborn module for visual EDA and is built on top of both Pandas and Matplotlib.\n",
    "\n",
    "For this example of EDA, we'll use the Iris dataset, which contains 150 rows of data about three different species of Iris flowers. The data can be found at https://datahub.io/machine-learning/iris/r/iris.csv and doesn't require any special keyword usage to read it in using the `read_csv` function from Pandas"
   ]
  },
  {
   "cell_type": "code",
   "execution_count": null,
   "id": "0d8e166a-d059-40e6-bca4-aaafd865069b",
   "metadata": {},
   "outputs": [],
   "source": [
    "df = pd.read_csv('https://datahub.io/machine-learning/iris/r/iris.csv')"
   ]
  },
  {
   "cell_type": "markdown",
   "id": "ec995610-6466-498b-a0af-c42ff189593a",
   "metadata": {},
   "source": [
    "Let's first take a look at the data by representing the DataFrame as a table. Note to due this we don't want to use the print function, but rather just type of the variable name into a cell and run that cell."
   ]
  },
  {
   "cell_type": "code",
   "execution_count": null,
   "id": "40670c6f-dfcb-44dd-9ad0-0b4d12b4684d",
   "metadata": {},
   "outputs": [],
   "source": [
    "df"
   ]
  },
  {
   "cell_type": "markdown",
   "id": "1a8eb686-0236-41f6-ae57-a990bc948452",
   "metadata": {},
   "source": [
    "The default view is that we get a table view of the first and last give rows of the DataFrame. Since it is a small enough dataset we see all of the columns, which include the species class, the sepal length, sepal width, petal length, an petal width.\n",
    "\n",
    "*What part of the flower is the sepal?*\n",
    "\n",
    "It is the part of a flower that covers a bud.\n",
    "\n",
    "![image](https://leafyplace.com/wp-content/uploads/2019/05/flower-diagram.jpg)"
   ]
  },
  {
   "cell_type": "markdown",
   "id": "6432ff2e-2bf0-4b87-87fd-21dfa67ac504",
   "metadata": {},
   "source": [
    "## Data Insights\n",
    "\n",
    "Let's start off with some insights from the size and shape of the dataset and describing some of the numeric characteristics of the dataset.\n",
    "* shape of the dataset\n",
    "* common statitics (five numbers)\n",
    "* correlation between numeric fields"
   ]
  },
  {
   "cell_type": "code",
   "execution_count": null,
   "id": "f1cc4d31-fb75-4ed3-afcc-b25f491bc761",
   "metadata": {},
   "outputs": [],
   "source": [
    "df.shape"
   ]
  },
  {
   "cell_type": "markdown",
   "id": "e181aaa3-6abe-4911-8ada-c78d245c1783",
   "metadata": {},
   "source": [
    "## Five Number Summary\n",
    "With our DataFrame we can use the `describe()` method to get a quick look at the observation count, mean, standard deviation, minimum, 25%, median, 75%, and max values.\n",
    "\n",
    "You can also alter the percentile values shown with the `percentiles` keyword argument and supplying the integer values in a list that you would like to be shown (e.g., `[.05, .10, .25, .50, .75, .90, .95]`).\n",
    "\n",
    "**What notable things stand out from your five number summary?**"
   ]
  },
  {
   "cell_type": "code",
   "execution_count": null,
   "id": "bcfa2b11-b74f-4509-bae7-987357ac12a7",
   "metadata": {},
   "outputs": [],
   "source": [
    "df.describe()"
   ]
  },
  {
   "cell_type": "code",
   "execution_count": null,
   "id": "3fbafb50-e3f9-45b4-93cd-6a901688a328",
   "metadata": {},
   "outputs": [],
   "source": []
  },
  {
   "cell_type": "markdown",
   "id": "8983b50a-81b4-44e3-8c54-20b6e2a2ee77",
   "metadata": {},
   "source": [
    "## Correlations\n",
    "With a DataFrame it is also very easy to get a table of correlation values among all of the numeric columns within your dataset. In addition you have a choice of correlation calculation type including `pearson` (which is the default and most common correlation calculations), `kendall`, and `spearman`. To change the correlation calculation use the `method` keyword.\n",
    "\n",
    "Kendall and Spearman Rank Correlation Information: https://www.statisticssolutions.com/free-resources/directory-of-statistical-analyses/kendalls-tau-and-spearmans-rank-correlation-coefficient/\n",
    "\n",
    "**What jumps out about the correlation between all of the variables?**"
   ]
  },
  {
   "cell_type": "code",
   "execution_count": null,
   "id": "6bfd89f5-b308-4b3f-9f80-0d9bea154551",
   "metadata": {},
   "outputs": [],
   "source": [
    "df.corr()"
   ]
  },
  {
   "cell_type": "code",
   "execution_count": null,
   "id": "2fa3013c-9289-40a8-88d2-4a3f589d9ea0",
   "metadata": {},
   "outputs": [],
   "source": []
  },
  {
   "cell_type": "markdown",
   "id": "cebc669a-7d82-4302-b716-2b9875c0765c",
   "metadata": {},
   "source": [
    "## Visual Exploratory Data Analysis\n",
    "While we have previously used Matplotlib to make some basic graphics, for exploratory data analysis we are going to use a module that has been built on top of it, which will make the creation of graphics easier, while still allowing all of the hooks to refine the figures using the details of Matplotlib.\n",
    "\n",
    "Seaborn (https://seaborn.pydata.org/index.html) is a Python data visualization library based on matplotlib. It provides a high-level interface for drawing attractive and informative statistical graphics. Most of the Matplotlib functionality is built-in to keyword arguments for each of the plotting functions, others are obtainable through giving the plot a namespace (assigning it to a variable object name) and accessing the axis (ax) and setting parameters like we did using native Matplotlib axis calls.\n",
    "\n",
    "Seaborn API: https://seaborn.pydata.org/api.html"
   ]
  },
  {
   "cell_type": "markdown",
   "id": "ad21b15d-c181-4f4e-9c34-1b211e27c0ca",
   "metadata": {},
   "source": [
    "### Histogram\n",
    "In Seaborn, `displot` is a figure plotting function that can plot a couple of different types of plots for univariate and bivariate data. The default is `histplot`. You'll need to feed it your dataset, prefereably as a Pandas DataFrame, and specify the column of data you wish to plot (e.g., sepallength). The lower-level plot for a histogram is `sns.histplot`.\n",
    "\n",
    "Displot Documentation: https://seaborn.pydata.org/generated/seaborn.displot.html#seaborn.displot\n",
    "\n",
    "Histplot Documentation: https://seaborn.pydata.org/generated/seaborn.histplot.html#seaborn.histplot\n",
    "\n",
    "**What does the distribution of sepal length among the iris types look like?**"
   ]
  },
  {
   "cell_type": "code",
   "execution_count": null,
   "id": "14880ec4-e5d5-4f4f-8cdd-09c087595e1e",
   "metadata": {},
   "outputs": [],
   "source": [
    "sns.displot(df, x='sepallength')"
   ]
  },
  {
   "cell_type": "markdown",
   "id": "5b097c7c-2153-46a3-bc6a-f901bf26d0b2",
   "metadata": {},
   "source": [
    "What makes this plotting function (and all of Seaborn) really powerful is that it is easy to subset and plot data from different categoies. For example, with the Iris dataset, we have three different types of the Iris flower, and by adding one keyword argument, `hue`, we can get a visual representation on the similarities and differences of a particular charactersitc across the different categories.\n",
    "\n",
    "**Are the distributions different for the different iris classes?**"
   ]
  },
  {
   "cell_type": "code",
   "execution_count": null,
   "id": "30665f43-f9fa-49c2-b077-d643c726a561",
   "metadata": {},
   "outputs": [],
   "source": [
    "plot = sns.displot(df, x='sepallength', hue='class')"
   ]
  },
  {
   "cell_type": "markdown",
   "id": "76e87a28-ada1-4fe6-b2ed-ee341c1d04a8",
   "metadata": {},
   "source": [
    "### Kernel Density Estimate\n",
    "Another option from `displot` is to plot the kernel density estimate of the histrogram distribution. To plot the KDE, set the `kind` keyword to `'kde'`.\n",
    "\n",
    "kdeplot Documentation: https://seaborn.pydata.org/generated/seaborn.kdeplot.html#seaborn.kdeplot"
   ]
  },
  {
   "cell_type": "code",
   "execution_count": null,
   "id": "e1965d0f-11c6-4d79-adf2-f78efc2b5dcb",
   "metadata": {},
   "outputs": [],
   "source": [
    "sns.displot(df, x='sepallength', kind='kde', hue='class')"
   ]
  },
  {
   "cell_type": "markdown",
   "id": "c875e3f1-e480-4b8f-a8e7-53848b6ae87d",
   "metadata": {},
   "source": [
    "### Dot Plots\n",
    "In Seaborn there is a simple method for plotting dot plots to visualize the distribution of charactersitics within a single category. In this case the `stripplot` plotting function can be used. This is not a figure-level plotting function and this particular function requires specifying the DataFrame with a keyword argument `data` instead of just listing it as the first value in the fuction arguments. Here let's plot the `sepalwidth` by they `'class'`.\n",
    "\n",
    "**What kind of difference in distribution of sepal widths are there between the different iris classes?**"
   ]
  },
  {
   "cell_type": "code",
   "execution_count": null,
   "id": "917b4bc4-4c4d-42b8-a5b9-bbb3b87b53b4",
   "metadata": {
    "tags": []
   },
   "outputs": [],
   "source": [
    "sns.stripplot(data=df, x='sepalwidth', y='class')"
   ]
  },
  {
   "cell_type": "markdown",
   "id": "ffbc1f33-81ac-4e73-95e9-0a7197ba1d66",
   "metadata": {},
   "source": [
    "### Box and Whisker Plots\n",
    "A box plot is a very common method to visualize the five number numeric statistics. This is a part of the Seaborn categorical plotting, which includes dot plots, box plots, swarmplots, etc. Here we use the individual plotting function and not the figure-level plotting function (`catplot`). \n",
    "\n",
    "boxplot Documentation: https://seaborn.pydata.org/generated/seaborn.boxplot.html#seaborn.boxplot\n",
    "\n",
    "For more information on the figure-level categorical plotting see the `catplot` documentation at https://seaborn.pydata.org/generated/seaborn.catplot.html#seaborn.catplot\n",
    "\n",
    "**What kind of range is there for petal length? Are there any outliers?**"
   ]
  },
  {
   "cell_type": "code",
   "execution_count": null,
   "id": "acdd5484-bfdc-44c9-b328-a6c66aa8dd7f",
   "metadata": {},
   "outputs": [],
   "source": [
    "fig = plt.figure(figsize=(10, 12))\n",
    "sns.boxplot(data=df, y='petallength')\n",
    "plt.title('Box and Whisker Plot\\nPetal Length');"
   ]
  },
  {
   "cell_type": "markdown",
   "id": "82ed464e-9360-419b-adc1-02df94cab95a",
   "metadata": {},
   "source": [
    "Switch up which way the box and whiskers are oriented by swapping the x and y values."
   ]
  },
  {
   "cell_type": "code",
   "execution_count": null,
   "id": "27181a1f-b4d7-48f2-8a6f-f3ddac8ce41b",
   "metadata": {},
   "outputs": [],
   "source": [
    "sns.boxplot(data=df, x='sepalwidth', y='class')"
   ]
  },
  {
   "cell_type": "markdown",
   "id": "36a4d1b3-1454-4cdb-8e87-d71d39d9e57d",
   "metadata": {},
   "source": [
    "### Scatter Plots\n",
    "\n",
    "There are many times where you might be trying to determine the relationship between predictor variables or between the predictor variables and the predictand. In this way simple scatter plots allow a visual comparison to could lead to the identification of clustering or some sort of linear or other relationship between two variables. This is part of the relational plotting in Seaborn.\n",
    "\n",
    "scatterplot Documentation: https://seaborn.pydata.org/generated/seaborn.scatterplot.html#seaborn.scatterplot\n",
    "\n",
    "**What is the relationship between sepal width and petal length?**"
   ]
  },
  {
   "cell_type": "code",
   "execution_count": null,
   "id": "482c52c7-2532-4c75-b643-58fe0a7bcffa",
   "metadata": {},
   "outputs": [],
   "source": [
    "sns.scatterplot(data=df, x='petallength', y='sepallength')"
   ]
  },
  {
   "cell_type": "markdown",
   "id": "896826d5-0f05-4d1b-a2bd-3edc49476246",
   "metadata": {},
   "source": [
    "Combine a KDE plot with a scatterplot of the points going into the KDE."
   ]
  },
  {
   "cell_type": "code",
   "execution_count": null,
   "id": "ecf95e49-f04a-4e54-9071-19ce52c1c768",
   "metadata": {},
   "outputs": [],
   "source": [
    "sns.displot(df, x='petallength', y='sepallength', kind='kde', hue='class')\n",
    "sns.scatterplot(data=df, x='petallength', y='sepallength', hue='class', alpha=0.5)\n",
    "plt.title('This is a title')"
   ]
  },
  {
   "cell_type": "markdown",
   "id": "43f5e310-d288-454d-950e-510335f335ab",
   "metadata": {},
   "source": [
    "### Pair Plots\n",
    "A quick way to visualize all of the pairwise relationships within your dataset is to use the `pariplot` function. This will create a matrix of plots that investigates the histogram of each variable and produces a scatterplot of each variable agaist the other (in a similar fashion to a correlation matrix).\n",
    "\n",
    "pairplot Documentation: https://seaborn.pydata.org/generated/seaborn.pairplot.html#seaborn.pairplot\n",
    "\n",
    "**What are the distribution and relationships between all of the numeric variables in my dataset?**"
   ]
  },
  {
   "cell_type": "code",
   "execution_count": null,
   "id": "3960289a-7964-461c-a43a-7a12ec0c5216",
   "metadata": {},
   "outputs": [],
   "source": [
    "sns.pairplot(df)"
   ]
  },
  {
   "cell_type": "markdown",
   "id": "97c19378-9a19-476c-b02d-ec69b7877084",
   "metadata": {},
   "source": [
    "There are many more ways to customize the pairplot to visualize the data in a meaningful way. If you need more control over the pairplot, you can use the PairGrid class (https://seaborn.pydata.org/generated/seaborn.PairGrid.html#seaborn.PairGrid), but even without going to that level, there is great ability to modify the pairplot with some mapping."
   ]
  },
  {
   "cell_type": "code",
   "execution_count": null,
   "id": "a8be824b-a43d-4a66-bc0d-96b8c8dc0c17",
   "metadata": {},
   "outputs": [],
   "source": [
    "g = sns.pairplot(df, hue='class', diag_kind=\"kde\", height=2.5)\n",
    "g.map_upper(sns.scatterplot)\n",
    "g.map_lower(sns.kdeplot, fill=False)\n",
    "g.map_diag(sns.histplot, multiple='stack', stat='count', kde=True)"
   ]
  },
  {
   "cell_type": "markdown",
   "id": "8f1850bd-43c1-44d9-8eaa-90d6bceb1a34",
   "metadata": {},
   "source": [
    "### Heat Map\n",
    "\n",
    "Heat maps are a matrix plot and are great way to add some visualization to otherwise text-based analysis. Specifically, you can plot a correlation matrix and fill it in with colors representing the value of the correlation of each pair of observation vectors. By using the annot keyword you can even add the numeric value (correlation in the example below) to the plot.\n",
    "\n",
    "heatmap Documentation: https://seaborn.pydata.org/generated/seaborn.heatmap.html#seaborn.heatmap\n",
    "\n",
    "**What variables have a high correlation to one another?**"
   ]
  },
  {
   "cell_type": "code",
   "execution_count": null,
   "id": "823fa8c8-20bc-48ee-a3db-e40154a3fcee",
   "metadata": {},
   "outputs": [],
   "source": [
    "fig = plt.figure(figsize=(10, 10))\n",
    "sns.heatmap(df.corr(), vmin=-1, vmax=1, annot=True, cmap='vlag_r')"
   ]
  },
  {
   "cell_type": "markdown",
   "id": "3c2f7981-8a9f-4a50-a6a0-d1e2383f87ba",
   "metadata": {},
   "source": [
    "### Additional Resources\n",
    "There are many other types of plots and some additional packages that might help make the visualization that you need for a particular part of  your work. Here are a couple of links to other tutorials/help pages that might be helpful.\n",
    "\n",
    "https://www.python-graph-gallery.com\n",
    "\n",
    "https://towardsdatascience.com/introduction-to-data-visualization-in-python-89a54c97fbed\n",
    "\n",
    "https://nbviewer.jupyter.org/github/PBPatil/Exploratory_Data_Analysis-Wine_Quality_Dataset/blob/master/winequality_white.ipynb\n",
    "\n",
    "https://realpython.com/pandas-plot-python/\n",
    "\n",
    "https://jakevdp.github.io/PythonDataScienceHandbook/04.14-visualization-with-seaborn.html"
   ]
  },
  {
   "cell_type": "code",
   "execution_count": null,
   "id": "13dc1f3c-bfa7-4abb-b0b3-bd7e5f507350",
   "metadata": {},
   "outputs": [],
   "source": []
  }
 ],
 "metadata": {
  "kernelspec": {
   "display_name": "Python 3 (ipykernel)",
   "language": "python",
   "name": "python3"
  },
  "language_info": {
   "codemirror_mode": {
    "name": "ipython",
    "version": 3
   },
   "file_extension": ".py",
   "mimetype": "text/x-python",
   "name": "python",
   "nbconvert_exporter": "python",
   "pygments_lexer": "ipython3",
   "version": "3.8.6"
  }
 },
 "nbformat": 4,
 "nbformat_minor": 5
}
