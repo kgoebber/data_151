{
 "cells": [
  {
   "cell_type": "markdown",
   "id": "654e199e-d915-443a-bf02-6f348806afb2",
   "metadata": {},
   "source": [
    "# Introduction to Python"
   ]
  },
  {
   "cell_type": "markdown",
   "id": "77b0479b-f05c-47eb-b1a2-56a82671d7d4",
   "metadata": {},
   "source": [
    "## Welcome to Python!\n",
    "\n",
    "* Python is a read language\n",
    "    - NOT compiled!\n",
    "    - The typed psuedo-code that you write is interpreted and run directly\n",
    "* Object Oriented\n",
    "    - Object-oriented programming (OOP) is a programming paradigm based on the concept of \"objects\", which are data structures that contain data, in the form of fields, often known as attributes; and code, in the form of procedures, often known as methods. - Defn. from Wikipedia\n",
    "    - We won't write objected oriented stuff, but we'll use it extensively!"
   ]
  },
  {
   "cell_type": "markdown",
   "id": "4c1b7616-c7fe-44cf-86ef-b7bf0eef9e4d",
   "metadata": {},
   "source": [
    "## Modular System\n",
    "* Base python is small\n",
    "* Lots of third-party modules to complete high-level tasks\n",
    "    - numpy, scipy, matplotlib, cartopy, netcdf4, pandas, xarray, pyart, r2py, scikit-learn, metpy\n",
    "    - Need to import modules to use their methods with your data objects (this is that whole object-oriented programmin bit!)\n",
    "    - You can think of modules as large groups of very useful functions or subprograms"
   ]
  },
  {
   "cell_type": "markdown",
   "id": "22479842-c185-4cfd-9573-583a08f233a8",
   "metadata": {},
   "source": [
    "## Python Syntax\n",
    "* Indented Langauge\n",
    "    - must abide by different levels of indentation for any code to be interpreted correctly\n",
    "* Community-based development\n",
    "    - modules developed by people for free\n",
    "    - suppor Scientific Python Development via NumFocus (https://numfocus.org)\n",
    "    - common repository: GitHub"
   ]
  },
  {
   "cell_type": "markdown",
   "id": "204a3c2a-054f-4099-add0-732802cd9dcb",
   "metadata": {
    "nbpresent": {
     "id": "2d0afcac-ac14-4728-8ef0-5a2aff4925bb"
    },
    "slideshow": {
     "slide_type": "slide"
    }
   },
   "source": [
    "## Variable Assignment\n",
    "\n",
    "* No need to declare variable types! Python will assume a type based on the value assigned to variable name.\n"
   ]
  },
  {
   "cell_type": "code",
   "execution_count": null,
   "id": "8725c44f-3244-4a9d-93e2-80013a8306d0",
   "metadata": {},
   "outputs": [],
   "source": [
    "# Assumes type based on value given\n",
    "# Following is a string (character) type\n",
    "name = 'Kevin'\n",
    "\n",
    "# Following is an integer type\n",
    "temp = 20"
   ]
  },
  {
   "cell_type": "code",
   "execution_count": null,
   "id": "30051f93-7898-48d7-9eb9-d6150e46c755",
   "metadata": {},
   "outputs": [],
   "source": []
  },
  {
   "cell_type": "markdown",
   "id": "3d587239-a319-425b-a5e6-52efc4695a99",
   "metadata": {},
   "source": [
    "### Reserved Words\n",
    "\n",
    "There are a number of words that you should not use to define a variable, becuase that words serves a very specific functionality within the Python language. The words to avoid are:\n",
    "\n",
    "| reserved | words | don't | use |\n",
    "| -- | -- | -- | -- |\n",
    "|`False`|`def`|`if`|`raise`|\n",
    "|`None`|`del`|`import`|`return`|\n",
    "|`True`|`elif`|`in`|`try`|\n",
    "|`and`|`else`|`is`|`while`|\n",
    "|`as`|`except`|`lambda`|`with`|\n",
    "|`assert`|`finally`|`nonlocal`|`yield`|\n",
    "|`break`|`for`|`not`||\n",
    "|`class`|`from`|`or`||\n",
    "|`continue`|`global`|`pass`||"
   ]
  },
  {
   "cell_type": "code",
   "execution_count": null,
   "id": "4240f188-2336-4fe8-ac8e-e200d3c24039",
   "metadata": {},
   "outputs": [],
   "source": [
    "help('keywords')"
   ]
  },
  {
   "cell_type": "markdown",
   "id": "db850419-c352-4560-8879-b1ee06e0dd74",
   "metadata": {},
   "source": [
    "## Print Function\n",
    "\n",
    "To print a variable, simply put the variable in the print statement.\n",
    "\n",
    "```python\n",
    "print(name)\n",
    "```\n",
    "\n",
    "Output:\n",
    "```\n",
    "Kevin\n",
    "```\n",
    "\n",
    "To print a variable as part of a string, you can use an 'f-string'. Place an f before the beginning of string statement and use curly brackets (e.g., {}) to call the variable you wish to print in the statement.\n",
    "\n",
    "```python\n",
    "print(f'My name is {name}')\n",
    "```\n",
    "\n",
    "Output:\n",
    "```\n",
    "My name is Kevin\n",
    "```"
   ]
  },
  {
   "cell_type": "code",
   "execution_count": null,
   "id": "d8819f43-db1b-4998-8278-ee61b1a58a83",
   "metadata": {},
   "outputs": [],
   "source": []
  },
  {
   "cell_type": "markdown",
   "id": "53471738-d2a7-46ef-93f1-3cfbcefc11e9",
   "metadata": {},
   "source": [
    "## Code Comments\n",
    "\n",
    "It is imperative that you comment your code to ensure you remember what pieces of your code are doing. This will help when you come back to old code after a period of time or share your code with someone else. Comments can be made in two primary ways, through stand alone comments on one line or inline, either way you want to use the special character `#`, which is officially known as an octothorp or better known to you as a hashtag.\n",
    "\n",
    "Any line that starts with a `#` will not be executed at runtime. Any line that has a `#` in it, nothing will be executed after that symbol.\n",
    "\n",
    "```python\n",
    "# This is a comment and won't be executed\n",
    "# The following line is executable code\n",
    "print('Hello') # this is an inline comment\n",
    "```\n",
    "\n",
    "Output\n",
    "```python\n",
    "Hello\n",
    "```"
   ]
  },
  {
   "cell_type": "code",
   "execution_count": null,
   "id": "b4f6bab7-e1de-4924-94f6-82b72f19d0eb",
   "metadata": {},
   "outputs": [],
   "source": []
  },
  {
   "cell_type": "markdown",
   "id": "adc66475-c45d-4243-a996-de481ebf487d",
   "metadata": {},
   "source": [
    "## Variable Types\n",
    "\n",
    "Since Python is a dynamically typed language, each variable will assume a type based on what the variable is assigned.\n",
    "\n",
    "- integer\n",
    "```python\n",
    "a = 1\n",
    "```\n",
    "- floating point (real)\n",
    "```python \n",
    "b = 5.0\n",
    "```\n",
    "- string\n",
    "```python\n",
    "c = 'Valpo'\n",
    "```\n",
    "- boolean\n",
    "```python\n",
    "d = True\n",
    "e = False\n",
    "```"
   ]
  },
  {
   "cell_type": "code",
   "execution_count": null,
   "id": "30b35dc7-1276-4ddb-a478-063c811aa531",
   "metadata": {},
   "outputs": [],
   "source": []
  },
  {
   "cell_type": "markdown",
   "id": "e5d46cca-aa54-4c14-9fa1-22b97e34456d",
   "metadata": {
    "nbpresent": {
     "id": "919e2267-05bf-48b9-92a6-fe6593f22b05"
    },
    "slideshow": {
     "slide_type": "subslide"
    }
   },
   "source": [
    "## Mathematical Calculations\n",
    "\n",
    "### Operators\n",
    "* Addition (+)\n",
    "* Subtraction (-)\n",
    "* Division (/)\n",
    "* Multiplication (*)\n",
    "* Exponentiation (**)\n",
    "* Floor division (//)\n",
    "* Modulus/remainder (%)\n",
    "\n",
    "Uses common order of operations - use parentheses if unsure.\n",
    "\n",
    "Floats and Integers work as Reals and Integers in Fortran\n"
   ]
  },
  {
   "cell_type": "markdown",
   "id": "0eb7883e-2473-4cac-bc6e-2d612c4d46cf",
   "metadata": {
    "nbpresent": {
     "id": "b460430e-4e9f-41e0-9b91-cf09d80867f1"
    },
    "slideshow": {
     "slide_type": "subslide"
    }
   },
   "source": [
    "**NOTE:**\n",
    "In Python, integer division will yield a real in return\n",
    "\n",
    "```python\n",
    "5/9 = 0.5555555555555556\n",
    "```\n",
    "\n",
    "To get the integer of division, use floor division\n",
    "```python \n",
    "5//9 = 0\n",
    "```"
   ]
  },
  {
   "cell_type": "code",
   "execution_count": null,
   "id": "abd01af5-66e4-4606-af99-e017ffa56d1c",
   "metadata": {},
   "outputs": [],
   "source": []
  },
  {
   "cell_type": "markdown",
   "id": "2e38df52-9bea-4e1b-8485-0f3f5358080f",
   "metadata": {
    "nbpresent": {
     "id": "2d0afcac-ac14-4728-8ef0-5a2aff4925bb"
    },
    "slideshow": {
     "slide_type": "slide"
    },
    "tags": []
   },
   "source": [
    "## Converting Types\n",
    "* If you read something from a file it will be input as a string\n",
    "* May need to convert to integers and floats (real)\n",
    "```python\n",
    "str(temp) makes temp a string\n",
    "int(temp) makes temp an integer\n",
    "float(temp) makes temp a real (float32)\n",
    "```\n",
    "* Integer to float\n",
    "```python\n",
    "new_a = float(a)\n",
    "```\n",
    "* Not all conversions will work\n",
    "  - a string that is not a number can't be converted to an integer for float value\n"
   ]
  },
  {
   "cell_type": "code",
   "execution_count": null,
   "id": "1c097ab7-7427-45cd-804e-e3fba7544ce5",
   "metadata": {},
   "outputs": [],
   "source": []
  },
  {
   "cell_type": "markdown",
   "id": "c2ce180d-4964-4bc6-b174-ba49fba3f0d7",
   "metadata": {
    "nbpresent": {
     "id": "42b88980-3797-42f9-a491-0de5e8eda02d"
    },
    "slideshow": {
     "slide_type": "subslide"
    }
   },
   "source": [
    "## Variables and Math\n",
    "```python\n",
    "TMPC = 24\n",
    "TMPF = (9./5.)*TMPC + 32\n",
    "\n",
    "# Output to the screen\n",
    "print(TMPF)\n",
    "print(f'The temperature in Fahrenheit is {TMPF}')\n",
    "```\n",
    "**NOTE:**\n",
    "We can also format the variable (TMPF) that we are printing out. Formats go after the variable and start with a colon. (e.g., {TMPF:.2f})"
   ]
  },
  {
   "cell_type": "code",
   "execution_count": null,
   "id": "50a44a11-3fa2-4ecc-b39c-439a95a06686",
   "metadata": {},
   "outputs": [],
   "source": []
  },
  {
   "cell_type": "markdown",
   "id": "9d417636-b526-44bc-adce-f6bf2bca4a2e",
   "metadata": {},
   "source": [
    "## Strings\n",
    "\n",
    "Python can also manipulate strings, which can be expressed in several ways. They can be enclosed in single quotes ```('...')``` or double quotes ```(\"...\")``` with the same result.\n",
    "\n",
    "Special strings\n",
    "* ```'\\n'``` is a newline (adds a return)\n",
    "* ```\\``` can escape a value to act as a string instead of its special value in Python (e.g., dollar sign ($), apostrophe ('), octothorp (#))\n",
    "\n",
    "```python\n",
    "print('Kevin Goebbert \\nValparaiso University')\n",
    "```\n",
    "Output\n",
    "```python\n",
    "Kevin Goebbert\n",
    "Valparaiso University\n",
    "```\n",
    "\n",
    "Concatenation\n",
    "* You can combine strings to make larger strings\n",
    "* If you use math operators with strings you'll produce a concatenated string\n",
    "\n",
    "```python\n",
    "a = 'Go ' * 3 + 'Valpo'\n",
    "print(a)\n",
    "print() # prints a blank line\n",
    "\n",
    "name = ('Kevin '\n",
    "        'Goebbert')\n",
    "print(name)\n",
    "```\n",
    "\n",
    "Output\n",
    "```python\n",
    "Go Go Go Valpo\n",
    "\n",
    "Kevin Goebbert\n",
    "```"
   ]
  },
  {
   "cell_type": "code",
   "execution_count": null,
   "id": "c5f288ad-9f35-4eaa-90b5-6473eb68229d",
   "metadata": {},
   "outputs": [],
   "source": []
  },
  {
   "cell_type": "markdown",
   "id": "f159fa83-18d0-497e-bcae-d7f4029a8d62",
   "metadata": {},
   "source": [
    "## Subsetting Strings\n",
    "Each character within a string (including spaces) are one position. You can subset a string for a single or set of characters (positions) via its index value (address). One very important note is that Python uses a zero-based indexing scheme, so the first index value is zero (0), the second is one (1), and do on. You can also index from the end going backwards using negative numbers starting with -1, which will give you the last character.\n",
    "\n",
    "```python\n",
    "dept = 'Geography'\n",
    "print(dept[0])\n",
    "print(dept[5])\n",
    "print(dept[-2])\n",
    "```\n",
    "Output\n",
    "```\n",
    "G\n",
    "a\n",
    "h\n",
    "```\n",
    "\n",
    "You can also subset for a range of indecies by using the construct of `start:stop:step`, where the subsetting is inclusive of the start value, but exclusive of the stop value.\n",
    "\n",
    "```python\n",
    "print(dept[0:3])\n",
    "```\n",
    "Output\n",
    "```python\n",
    "Geo\n",
    "```\n",
    "\n",
    "So we only get the values from the variable `dept` from the index values of `0`, `1`, and `2`."
   ]
  },
  {
   "cell_type": "code",
   "execution_count": null,
   "id": "0e44d65a-b30e-45cf-840b-45d4fb4de966",
   "metadata": {},
   "outputs": [],
   "source": []
  },
  {
   "cell_type": "markdown",
   "id": "0bb5fc98-5981-4770-84b5-6068062e3597",
   "metadata": {
    "nbpresent": {
     "id": "f07b2ce3-0d35-4e21-8273-151fa9fe0cef"
    },
    "slideshow": {
     "slide_type": "slide"
    },
    "tags": []
   },
   "source": [
    "## Commandline Reading\n",
    "\n",
    "In python we can read input from a user and save it to a variable within our code.\n",
    "\n",
    "```python\n",
    "firstname = input('Input your first name: ')\n",
    "```\n",
    "\n",
    "Note that anything read in through the input function will become a string within your program. If you read in a number, use the built-in functions to covert its type. For example, if you need it to be a floating point number (i.e., have a decimal point) then you would want to use the `float()` function.\n"
   ]
  },
  {
   "cell_type": "code",
   "execution_count": null,
   "id": "2742c93b-5682-4d52-a7d6-ba5d05fe1e50",
   "metadata": {},
   "outputs": [],
   "source": []
  },
  {
   "cell_type": "markdown",
   "id": "bec59037-2288-4bbb-94ef-bda6d731c038",
   "metadata": {},
   "source": [
    "# Python Data Objects\n",
    "\n",
    "There are a number of different data objects that Python has to store information in a useful manner depending on what you are wanting to do. Here is broad list of the main data objects that are available in base Python.\n",
    "* List\n",
    "* Tuple\n",
    "* Set\n",
    "* Dictionary"
   ]
  },
  {
   "cell_type": "markdown",
   "id": "8c19904d-4038-4f8a-8738-32ccec7fdc38",
   "metadata": {},
   "source": [
    "## Lists\n",
    "There are times when we want to be able to group together items and store them together. Python's most versitile construct for holding multiple items together is known as a list. Lists are mutable, meaning you can change the value of a item within the list. Lists can contain a single type of item (e.g., integers, floats, strings) or a mixed grouping.\n",
    "\n",
    "There are two ways to define a list, 1) using square brackets or 2) using the list function `list()`. For example the following two are equivalent,\n",
    "\n",
    "```python\n",
    "a = [1,2,3,4,5]\n",
    "\n",
    "b = list(1, 2.5, 'Kevin', 4, 5)\n",
    "```\n",
    "\n",
    "Just like strings, we can subset a list to get a particular element using index values (addresses) of the desired elements.\n",
    "\n",
    "```python\n",
    "print(a[2])\n",
    "print(b[:3])\n",
    "```\n",
    "Output\n",
    "```python\n",
    "3\n",
    "1, 2.5, Kevin\n",
    "```"
   ]
  },
  {
   "cell_type": "code",
   "execution_count": null,
   "id": "a70207ce-b806-47e8-8817-6a0828220bdd",
   "metadata": {},
   "outputs": [],
   "source": []
  },
  {
   "cell_type": "markdown",
   "id": "57805620-d244-4e21-ba42-6c63ee10aec2",
   "metadata": {
    "tags": []
   },
   "source": [
    "## Lists vs. Tuple\n",
    "\n",
    "Python doesn't have a true array object. The closest thing to an array is a Python List (which are sometimes called array-like objects). Many of their properties are the same, but there are some notable differences depending on what you are trying to do. There are two ways to define a list, 1) using square brackets or 2) using the list function `list()`. For example the following two are equivalent,\n",
    "\n",
    "```python\n",
    "a = [1,2,3,4,5]\n",
    "\n",
    "a = list(1,2,3,4,5)\n",
    "```\n",
    "\n",
    "Lists are mutable objects, meaning that you can redefine individual elements.\n",
    "\n",
    "Another array-like object in Python is the Tuple. Tuples are different than lists in that they are immutable objects, meaning they can't be changed once assigned. Tuples can also be defined in two different ways, 1) using parentheses with at least one comma [e.g., (10,)] or 2) using the tuple function `tuple()`. For example, the following two tuple assignments are equivalent,\n",
    "\n",
    "```python\n",
    "b = (10,20,30,40,50)\n",
    "\n",
    "b = tuple(10,20,30,40,50)\n",
    "```"
   ]
  },
  {
   "cell_type": "code",
   "execution_count": null,
   "id": "a7279681-74a1-4eb9-a666-7923ce8b7d90",
   "metadata": {},
   "outputs": [],
   "source": [
    "# A list\n",
    "a = [1, 2, 3, 4, 5]\n",
    "print(a)"
   ]
  },
  {
   "cell_type": "code",
   "execution_count": null,
   "id": "424a2445-2fed-47e5-871c-ba7c288e2e06",
   "metadata": {},
   "outputs": [],
   "source": [
    "# Try a reassignment of a list object\n",
    "a[1] = 10\n",
    "print(a)"
   ]
  },
  {
   "cell_type": "code",
   "execution_count": null,
   "id": "330c1c15-611c-4014-a039-a9e28cbfe0a5",
   "metadata": {},
   "outputs": [],
   "source": [
    "# A tuple\n",
    "b = ('Kevin', 'Emily', 'Adam')\n",
    "print('Kevin' in b)"
   ]
  },
  {
   "cell_type": "code",
   "execution_count": null,
   "id": "e1d95945-efc5-406c-b3d1-ec5de28b6aac",
   "metadata": {},
   "outputs": [],
   "source": [
    "# Try a reassignment of a tuple object\n",
    "b[1] = 'Matt'"
   ]
  },
  {
   "cell_type": "markdown",
   "id": "bdccd297-8fde-4f59-83c3-728fb1fe50ac",
   "metadata": {},
   "source": [
    "Both lists and tuples can contain different data types in the same variable. This can be adventageous at times."
   ]
  },
  {
   "cell_type": "code",
   "execution_count": null,
   "id": "112b9f90-e2c1-4d13-a85e-28a46d15a16b",
   "metadata": {},
   "outputs": [],
   "source": []
  },
  {
   "cell_type": "markdown",
   "id": "1068e6b2-7ca6-4c7a-9e72-4fab60d8fdd5",
   "metadata": {},
   "source": [
    "## List and Tuple Methods\n",
    "\n",
    "### List Object\n",
    "There are a number of methods that are available for list objects including: ```append(), copy(), count(), index()```.\n",
    "\n",
    "https://docs.python.org/3/tutorial/datastructures.html#more-on-lists\n",
    "\n",
    "### Tuple Object\n",
    "There are only two methods available for the tuple object: ```count(), index()```\n",
    "\n",
    "https://docs.python.org/3/tutorial/datastructures.html#tuples-and-sequences\n"
   ]
  },
  {
   "cell_type": "code",
   "execution_count": null,
   "id": "0130799e-33eb-47eb-b174-0c4656d8e709",
   "metadata": {},
   "outputs": [],
   "source": [
    "# List append method\n",
    "a.append(100)\n",
    "print(a)"
   ]
  },
  {
   "cell_type": "code",
   "execution_count": null,
   "id": "853e8959-d815-4cc0-b0dd-4b8e4fe23d20",
   "metadata": {},
   "outputs": [],
   "source": [
    "# Tuple index method\n",
    "indx = b.index('Adam')\n",
    "print(indx)"
   ]
  },
  {
   "cell_type": "markdown",
   "id": "a5b2f9af-9c23-490d-8acb-9cbf580cf7e6",
   "metadata": {},
   "source": [
    "### Beware of Math with Lists and Tuples\n",
    "\n",
    "Math works VERY differently! A multiplication creates that number of copies within the list or tuple and concatenates them to the object."
   ]
  },
  {
   "cell_type": "code",
   "execution_count": null,
   "id": "239754ec-23e4-4257-9f3f-c4f9f60a634b",
   "metadata": {},
   "outputs": [],
   "source": [
    "# Multiple a list or tuple by 2\n",
    "a*2"
   ]
  },
  {
   "cell_type": "markdown",
   "id": "dc185976-fae4-4412-8104-71977d4cef81",
   "metadata": {},
   "source": [
    "## Nested Lists and Tuples\n",
    "\n",
    "Nested Lists (list of lists) are accessed in an odd way using separate square bracket slicing for each dimension of the list.\n",
    "\n",
    "For the following 2D list we want to access the first row, from position two to the end. The subsetting would work as follows\n",
    "```python\n",
    "list2D = [[1, 2, 3, 4, 5], [6, 7, 8, 9, 10]]\n",
    "print(list2D[0][2:])\n",
    "```\n",
    "Output\n",
    "```\n",
    "[3, 4, 5]\n",
    "```"
   ]
  },
  {
   "cell_type": "code",
   "execution_count": null,
   "id": "159ae359-9e42-4ad7-9cff-112b8a35be69",
   "metadata": {},
   "outputs": [],
   "source": []
  },
  {
   "cell_type": "markdown",
   "id": "44352140-ce93-4e7e-91a1-eb71d04adb59",
   "metadata": {},
   "source": [
    "## Dictionaries\n",
    "\n",
    "Python has the ability to create a mappable data structure, which is called a dictionary. The main way you'll encounter them is through many different data read methods. The great thing about a dictionary is that you are able to reference data with a string (or key) as opposed to just an index value. This is very powerful for keeping track of a number of different arrays within a \"dataset\".\n",
    "\n",
    "A dictionary is defined in one of two ways, 1) with curly brackets or 2) the ```dict()``` function where you link a value (or list of values) to a key (name).\n",
    "\n",
    "```python\n",
    "hours = list(range(24))\n",
    "stations = ['VPZ', 'GYY', 'ORD', 'MDW', 'RFD']\n",
    "data = {'times': hours, 'stn': stations}\n",
    "print(data['stn'])\n",
    "```\n",
    "Output\n",
    "```\n",
    "['VPZ', 'GYY', 'ORD', 'MDW', 'RFD']\n",
    "```\n",
    "There are a number of important methods attached to a dictionary object including: `clear()`, `copy()`, `keys()`, and `values()`\n",
    "\n",
    "https://docs.python.org/3/tutorial/datastructures.html#dictionaries\n"
   ]
  },
  {
   "cell_type": "code",
   "execution_count": null,
   "id": "1f827ea9-34d9-42a6-b82d-89ac976b514a",
   "metadata": {},
   "outputs": [],
   "source": [
    "units = {'tmpf': 'F', 'dwpf': 'F', 'pressure': 'hPa'}\n",
    "long_names = {'tmpf': 'Temperature', 'dwpf': 'Dewpoint', 'pressure': 'Pressure'}"
   ]
  },
  {
   "cell_type": "code",
   "execution_count": null,
   "id": "e62511ea-5f9c-4455-924d-76100ec62803",
   "metadata": {},
   "outputs": [],
   "source": []
  },
  {
   "cell_type": "markdown",
   "id": "d62df4be-f1d4-433b-b371-83fbb4d6d217",
   "metadata": {},
   "source": [
    "## Sets\n",
    "Python also includes a data type for sets. A set is an unordered collection with no duplicate elements. Basic uses include membership testing and eliminating duplicate entries. Set objects also support mathematical operations like union, intersection, difference, and symmetric difference.\n",
    "\n",
    "Curly braces or the `set()` function can be used to create sets and the function is generally given a list object as input.\n",
    "```python\n",
    "soil_samples = ['clay', 'sand', 'loam', 'silt', 'clay', 'peat', 'sand', 'chalk', 'loam', 'silt']\n",
    "soil_set = set(soil_samples)\n",
    "print(soil_set)\n",
    "\n",
    "```\n",
    "Output\n",
    "```\n",
    "{'silt', 'clay', 'loam', 'peat', 'chalk', 'sand'}\n",
    "```\n",
    "Note: to create an empty set you have to use `set()`, not `{}`; the latter creates an empty dictionary, a data structure that we discuss in the next section.\n",
    "\n",
    "https://docs.python.org/3/tutorial/datastructures.html#sets\n"
   ]
  },
  {
   "cell_type": "code",
   "execution_count": null,
   "id": "e9b4bd7e-1f29-40c4-b7af-0e6e2f33854b",
   "metadata": {},
   "outputs": [],
   "source": []
  },
  {
   "cell_type": "markdown",
   "id": "ee87e101-ad64-49e7-8a13-75a4fb08d1e0",
   "metadata": {
    "nbpresent": {
     "id": "e5deb65e-b5b2-4533-b5e3-78afbed4df6d"
    },
    "slideshow": {
     "slide_type": "slide"
    },
    "tags": []
   },
   "source": [
    "## Logical Operators\n",
    "\n",
    "| symbol | meaning|\n",
    "| :-: | :-: |\n",
    "| < | less than |\n",
    "| <= | less than or equal |\n",
    "| > | greater than |\n",
    "| >= | greater than or equal |\n",
    "| == | equal to |\n",
    "| != | not equal to |\n",
    "| \\| | or |\n",
    "| & | and |"
   ]
  },
  {
   "cell_type": "code",
   "execution_count": null,
   "id": "ab0ecbf2-92ac-4a2c-9b5b-bb0efc38fcbe",
   "metadata": {},
   "outputs": [],
   "source": []
  },
  {
   "cell_type": "markdown",
   "id": "076040c4-2f68-433e-945b-4243c3537869",
   "metadata": {
    "nbpresent": {
     "id": "d0d797b9-5088-43e9-bd2d-d847a069ad0a"
    },
    "slideshow": {
     "slide_type": "slide"
    }
   },
   "source": [
    "## IF/THEN\n",
    "\n",
    "```python\n",
    "a = 5\n",
    "b = 10\n",
    "\n",
    "if a < b:\n",
    "    print(a)\n",
    "elif a == b:\n",
    "    print('a and b are equal')\n",
    "else:\n",
    "    print(b)\n",
    "```\n",
    "Output:\n",
    "```\n",
    "5\n",
    "```\n",
    "\n",
    "**NOTE:** Python is a indented language, so everything within the if statment and any elif or else statments must be indented the same amount."
   ]
  },
  {
   "cell_type": "code",
   "execution_count": null,
   "id": "64029f70-8507-4570-88b8-6f6aaf66b1e6",
   "metadata": {
    "nbpresent": {
     "id": "16f55919-781c-46f4-9de6-2d683e8a485c"
    },
    "slideshow": {
     "slide_type": "subslide"
    }
   },
   "outputs": [],
   "source": []
  },
  {
   "cell_type": "markdown",
   "id": "23735b08-65f0-41ec-9951-cbab671a0832",
   "metadata": {
    "nbpresent": {
     "id": "bfff5862-5f90-4652-85a7-71be8acdfd7c"
    },
    "slideshow": {
     "slide_type": "slide"
    }
   },
   "source": [
    "## Let's begin with a simple looping function, which is a for loop in Python\n",
    "\n",
    "The structure of the loop is:\n",
    "```python\n",
    "for variable_name in [a_list]:\n",
    "    statement(s) to loop over\n",
    "```\n",
    "There is no endfor statement. Python knowns where the end is by the unindention of a line.\n",
    "\n",
    "**NOTE:** Python is a indented language, so everything within the loop must be indented the same amount."
   ]
  },
  {
   "cell_type": "code",
   "execution_count": null,
   "id": "95314912-3113-4e9d-b051-a1dc3834b906",
   "metadata": {
    "nbpresent": {
     "id": "6537c97e-a8aa-44b9-834e-90db91d597c4"
    },
    "slideshow": {
     "slide_type": "subslide"
    }
   },
   "outputs": [],
   "source": [
    "for i in range(10):\n",
    "    print(f\"In Loop {i}\")\n",
    "\n",
    "print(\"Out of loop!\")"
   ]
  },
  {
   "cell_type": "markdown",
   "id": "55d7cf35-9ee7-40b3-aab7-2b3dfd9384e0",
   "metadata": {
    "nbpresent": {
     "id": "8b0671c3-eace-468d-a7af-3c9686df8012"
    },
    "slideshow": {
     "slide_type": "subslide"
    }
   },
   "source": [
    "But what is this list and how is range(10) a list?"
   ]
  },
  {
   "cell_type": "code",
   "execution_count": null,
   "id": "f6c2be15-4615-48e4-b1bd-6946e89ef1c3",
   "metadata": {
    "nbpresent": {
     "id": "e03c0acc-e991-40a5-885e-db8554c7c92d"
    },
    "slideshow": {
     "slide_type": "subslide"
    }
   },
   "outputs": [],
   "source": [
    "print(\"But what is range(10)?\")\n",
    "print(list(range(10)))\n",
    "print(\"It's an iterable object, which acts like a list (array) of 10 values beginning \\n\"\\\n",
    "      \"with the standard base of zero.\\n\")"
   ]
  },
  {
   "cell_type": "markdown",
   "id": "35ea6285-dc90-46f5-9bc4-b71e16320961",
   "metadata": {
    "nbpresent": {
     "id": "56b6210f-aa30-4914-bece-ea03c2defe83"
    },
    "slideshow": {
     "slide_type": "subslide"
    }
   },
   "source": [
    "A simple list in Python works just like a single dimensional array!\n",
    "\n",
    "For example, lets set range(10) equal to a variable and see how we can call elements of the list."
   ]
  },
  {
   "cell_type": "code",
   "execution_count": null,
   "id": "59901ced-f954-45ef-8ef1-bce33e516937",
   "metadata": {
    "nbpresent": {
     "id": "39c49a92-cb7e-4d47-8be8-48e88b67d858"
    },
    "slideshow": {
     "slide_type": "subslide"
    }
   },
   "outputs": [],
   "source": [
    "x = list(range(10))\n",
    "print(x)\n"
   ]
  },
  {
   "cell_type": "markdown",
   "id": "17401156-ed19-49fe-aa19-e62a95820f66",
   "metadata": {
    "nbpresent": {
     "id": "b78e8bb4-7a93-4d58-9b09-bb089b4ac2d4"
    },
    "slideshow": {
     "slide_type": "subslide"
    }
   },
   "source": [
    "**Now let's specify how we loop with range**\n",
    "\n",
    "Run the cell below, then change the values over which you are looping. For example, start with -5 and go to 5."
   ]
  },
  {
   "cell_type": "code",
   "execution_count": null,
   "id": "7315878b-ade9-42ad-a5ed-6267ab3b91e5",
   "metadata": {
    "nbpresent": {
     "id": "87bb2883-9a7d-4622-9e9f-2150621bf4d7"
    },
    "slideshow": {
     "slide_type": "fragment"
    }
   },
   "outputs": [],
   "source": [
    "for i in range(10):\n",
    "    print(i)\n",
    "\n",
    "print()\n",
    "print(\"Note: The final number in the range that was specified \\n\"\n",
    "      \"was NOT used. There is no 10 in the output.\")\n",
    "print(i)"
   ]
  },
  {
   "cell_type": "markdown",
   "id": "b9219af0-90a3-40c6-b0a2-bc99e4adfbe2",
   "metadata": {
    "nbpresent": {
     "id": "6833bc38-07c6-469d-909a-6bc0dcced6f3"
    },
    "slideshow": {
     "slide_type": "subslide"
    }
   },
   "source": [
    "The way that python works when you are specifying some sort of range, whether within the range function itself or within an array, it is **inclusive** of the first element and **exclusive** of the last.\n",
    "\n",
    "So what does that mean?\n",
    "\n",
    "(10,20) -> 10, 11, 12, 13, 14, 15, 16, 17, 18, 19 --> in math that would be written as [10,20)"
   ]
  },
  {
   "cell_type": "markdown",
   "id": "b71a1af9-9b97-4f1c-bec1-2a4439d38c02",
   "metadata": {
    "slideshow": {
     "slide_type": "slide"
    }
   },
   "source": [
    "## Looping over specified list\n",
    "We can set out own list (or other iterable item), as in the example below with the variable temp."
   ]
  },
  {
   "cell_type": "code",
   "execution_count": null,
   "id": "5bfa32fb-465c-44ea-a50d-5b5cc748b89d",
   "metadata": {
    "slideshow": {
     "slide_type": "subslide"
    }
   },
   "outputs": [],
   "source": [
    "temp = [19, 26, 5, 'Kevin', 3, 22.2, 100]\n"
   ]
  },
  {
   "cell_type": "markdown",
   "id": "480e50aa-cfc9-40b2-ab69-f3d4ea52c9da",
   "metadata": {
    "nbpresent": {
     "id": "cf2319f4-a6fe-4d8b-94c2-6f140686103e"
    },
    "slideshow": {
     "slide_type": "subslide"
    }
   },
   "source": [
    "However, we are not relegated to using numbers for our looping!"
   ]
  },
  {
   "cell_type": "code",
   "execution_count": null,
   "id": "01382037-a8c9-4385-9fc1-f91fe4f788b7",
   "metadata": {
    "nbpresent": {
     "id": "2e9fbe17-5626-40d5-979f-fb1265c44c99"
    },
    "slideshow": {
     "slide_type": "slide"
    }
   },
   "outputs": [],
   "source": [
    "names = ['Kevin', 'Teresa', 'Charlie Brown', 'Linus']\n",
    "for item in names:\n",
    "    print(item)\n",
    "\n",
    "print()\n",
    "print('Is Kevin in the list?')\n",
    "print('Kevin' in names)"
   ]
  },
  {
   "cell_type": "code",
   "execution_count": null,
   "id": "f46d9eeb-d130-4d45-8fe3-46ada4ae102f",
   "metadata": {
    "nbpresent": {
     "id": "bcea78ca-84aa-4739-b4f9-4e33216c5840"
    },
    "slideshow": {
     "slide_type": "slide"
    }
   },
   "outputs": [],
   "source": [
    "name = 'Valparaiso University'\n"
   ]
  },
  {
   "cell_type": "markdown",
   "id": "b3ceb489-c6e0-44ed-9a87-3ddabc82a1e8",
   "metadata": {
    "nbpresent": {
     "id": "3d6ab4e1-9340-46b7-998b-e28db94ac125"
    },
    "slideshow": {
     "slide_type": "slide"
    }
   },
   "source": [
    "## While Loops\n",
    "We also have the option of a while loop in Python, which is very similar to the Fortran version. The loop will continue until the logic statement is false."
   ]
  },
  {
   "cell_type": "code",
   "execution_count": null,
   "id": "6074ee9e-067e-47a0-879d-587aaac2c6d3",
   "metadata": {
    "nbpresent": {
     "id": "68c9136a-119d-4baa-834a-dfb276b39b15"
    },
    "slideshow": {
     "slide_type": "subslide"
    }
   },
   "outputs": [],
   "source": [
    "# We initialize m to be zero and that means \n",
    "# that m is an integer in this case.\n",
    "m = 0\n",
    "while (m < 4):\n",
    "    print(m)\n",
    "    m+=1\n",
    "print(f\"I am out of the loop because m is now {m}\")\n"
   ]
  }
 ],
 "metadata": {
  "kernelspec": {
   "display_name": "Python 3 (ipykernel)",
   "language": "python",
   "name": "python3"
  },
  "language_info": {
   "codemirror_mode": {
    "name": "ipython",
    "version": 3
   },
   "file_extension": ".py",
   "mimetype": "text/x-python",
   "name": "python",
   "nbconvert_exporter": "python",
   "pygments_lexer": "ipython3",
   "version": "3.8.6"
  }
 },
 "nbformat": 4,
 "nbformat_minor": 5
}
