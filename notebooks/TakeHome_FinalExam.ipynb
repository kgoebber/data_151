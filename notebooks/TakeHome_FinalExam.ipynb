{
 "cells": [
  {
   "cell_type": "code",
   "execution_count": null,
   "id": "2c199ee1-7542-473b-a68b-0e4dcc0e5730",
   "metadata": {},
   "outputs": [],
   "source": [
    "import graphviz\n",
    "import matplotlib.pyplot as plt\n",
    "import numpy as np\n",
    "import pandas as pd\n",
    "import seaborn as sns\n",
    "\n",
    "from sklearn.model_selection import train_test_split\n",
    "from sklearn import metrics\n",
    "from sklearn.naive_bayes import GaussianNB\n",
    "from sklearn.tree import DecisionTreeClassifier, export_graphviz"
   ]
  },
  {
   "cell_type": "markdown",
   "id": "d739efd2-0989-40ab-9fac-858206e28efb",
   "metadata": {},
   "source": [
    "# Predicting Malignant Breast Cancer Cells\n",
    "\n",
    "Reading data from the University of California - Irvine machine learning database. The data are read in for you below with appropriate column names based on the original description of the dataset.\n",
    "\n",
    "https://archive.ics.uci.edu/ml/machine-learning-databases/breast-cancer-wisconsin/"
   ]
  },
  {
   "cell_type": "code",
   "execution_count": null,
   "id": "1d6f743d-f174-4380-9e33-161ce07826c1",
   "metadata": {},
   "outputs": [],
   "source": [
    "df = pd.read_csv('https://archive.ics.uci.edu/ml/machine-learning-databases/breast-cancer-wisconsin/'\n",
    "                 'breast-cancer-wisconsin.data', sep=',', na_values='?',\n",
    "                 names=['samplenum', 'clump thickness', 'uniform cell size', 'uniform cell shape',\n",
    "                        'marginal adhesion', 'single epithelial cell size','bare nuclei', 'bland chromatin',\n",
    "                        'normal nucleoli', 'mitoses', 'class'])"
   ]
  },
  {
   "cell_type": "markdown",
   "id": "757825a0-cf3b-4180-8c48-f643a1bd71bf",
   "metadata": {},
   "source": [
    "Here I drop rows that contain at least one NaN value and describe the overall dataset. Note that the class variable contains two values [2, 4], which represent ['benign', 'malignant']"
   ]
  },
  {
   "cell_type": "code",
   "execution_count": null,
   "id": "32e8cab0-eacb-48f1-93f2-1a4b5b983132",
   "metadata": {},
   "outputs": [],
   "source": [
    "df = df.drop(columns=['samplenum']).dropna()\n",
    "df.describe()"
   ]
  },
  {
   "cell_type": "markdown",
   "id": "dec08a89-b3a0-4ae5-bff6-f10af07a8c59",
   "metadata": {},
   "source": [
    "A quick look at the correlation between feature variables and the target variable (class)."
   ]
  },
  {
   "cell_type": "code",
   "execution_count": null,
   "id": "1cd52ac2-d295-4fc1-a1a4-f3400040f7bf",
   "metadata": {},
   "outputs": [],
   "source": [
    "plt.figure(figsize=(10, 10))\n",
    "sns.heatmap(df.corr(), annot=True, cmap=plt.cm.coolwarm)\n",
    "\n",
    "plt.show()"
   ]
  },
  {
   "cell_type": "markdown",
   "id": "909f1d45-8b58-4a70-87fc-3dc620e07383",
   "metadata": {},
   "source": [
    "Describe the balance of the target class outcomes (e.g., the 'class' column)"
   ]
  },
  {
   "cell_type": "code",
   "execution_count": null,
   "id": "115608b2-6cfa-4e70-8dc2-c03e032591b4",
   "metadata": {},
   "outputs": [],
   "source": [
    "df['cancer_class'] = df['class'].map({2: 'benign', 4: 'malignant'})\n",
    "\n",
    "sns.histplot(df, x='cancer_class', hue=df['cancer_class'])\n",
    "plt.title('Histogram of the two classes from the whole dataset')\n",
    "plt.show()"
   ]
  },
  {
   "cell_type": "markdown",
   "id": "9078320b-74e7-46ed-bf29-fcecec477de7",
   "metadata": {},
   "source": [
    "Split the dataset into feature and target variables including only the most highly correlated predictors."
   ]
  },
  {
   "cell_type": "code",
   "execution_count": null,
   "id": "3a367ae3-9af9-48f7-8791-c2d10ac2cd42",
   "metadata": {},
   "outputs": [],
   "source": [
    "features = df[['uniform cell size', 'bare nuclei', 'bland chromatin', 'clump thickness', 'normal nucleoli']]\n",
    "target = df['cancer_class']\n",
    "\n",
    "Xtrain, Xtest, ytrain, ytest = train_test_split(features, target, test_size=.3, random_state=1)"
   ]
  },
  {
   "cell_type": "markdown",
   "id": "973bd4af-ea64-4124-831e-9dd0dfc8dba0",
   "metadata": {},
   "source": [
    "How many values are in the training dataset? How many are in the testing dataset?"
   ]
  },
  {
   "cell_type": "code",
   "execution_count": null,
   "id": "bdb05cf8-dcda-42f9-b433-adbf681ee188",
   "metadata": {},
   "outputs": [],
   "source": []
  },
  {
   "cell_type": "markdown",
   "id": "644d1a73-53f1-4d2c-aba6-9a800c910f9e",
   "metadata": {},
   "source": [
    "Fit a simple Naive Bayes model..."
   ]
  },
  {
   "cell_type": "code",
   "execution_count": null,
   "id": "541b3654-18a2-4761-a71c-5db6df2ef6a7",
   "metadata": {},
   "outputs": [],
   "source": [
    "model = GaussianNB()\n",
    "model.fit(Xtrain, ytrain)\n",
    "y_model = model.predict(Xtest)"
   ]
  },
  {
   "cell_type": "markdown",
   "id": "a97bc579-e6a8-412a-92b7-0f602edb5b93",
   "metadata": {},
   "source": [
    "What is the accuracy, recall, and precision of the model of the Naive Bayes model?"
   ]
  },
  {
   "cell_type": "code",
   "execution_count": null,
   "id": "f45d3eb9-823a-4bda-b1bf-315dc31d6cff",
   "metadata": {},
   "outputs": [],
   "source": []
  },
  {
   "cell_type": "markdown",
   "id": "7b4d2cc6-7045-4ab2-bdb5-6a11a9de1db0",
   "metadata": {},
   "source": [
    "Create a decision tree classifer for the same data that are used in the Naive Bayes model..."
   ]
  },
  {
   "cell_type": "code",
   "execution_count": null,
   "id": "b4a295b3-bc11-4c12-8259-eaaba070cbea",
   "metadata": {},
   "outputs": [],
   "source": []
  },
  {
   "cell_type": "markdown",
   "id": "112736f3-6c29-4813-84c0-74df1e5f8de4",
   "metadata": {},
   "source": [
    "What is the accuracy, recall, and precision of the model of the decision tree model?"
   ]
  },
  {
   "cell_type": "code",
   "execution_count": null,
   "id": "49eeb08c-3ec0-4b69-91ce-2cfb418d2d3e",
   "metadata": {},
   "outputs": [],
   "source": []
  },
  {
   "cell_type": "markdown",
   "id": "f8322acc-b3ee-4153-8d01-dc6892ea71fe",
   "metadata": {},
   "source": [
    "What are the important features from the decision tree model?"
   ]
  },
  {
   "cell_type": "code",
   "execution_count": null,
   "id": "4e7f16dc-ed16-4830-95b7-45f35d3b387f",
   "metadata": {},
   "outputs": [],
   "source": []
  }
 ],
 "metadata": {
  "kernelspec": {
   "display_name": "Python 3 (ipykernel)",
   "language": "python",
   "name": "python3"
  },
  "language_info": {
   "codemirror_mode": {
    "name": "ipython",
    "version": 3
   },
   "file_extension": ".py",
   "mimetype": "text/x-python",
   "name": "python",
   "nbconvert_exporter": "python",
   "pygments_lexer": "ipython3",
   "version": "3.8.12"
  }
 },
 "nbformat": 4,
 "nbformat_minor": 5
}
