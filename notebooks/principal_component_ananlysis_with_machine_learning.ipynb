{
 "cells": [
  {
   "cell_type": "code",
   "execution_count": 1,
   "id": "f57dd9f5-067c-4fb1-8722-de9bcd797a40",
   "metadata": {},
   "outputs": [],
   "source": [
    "import matplotlib.pyplot as plt\n",
    "import numpy as np\n",
    "import pandas as pd\n",
    "import seaborn as sns\n",
    "\n",
    "from sklearn.decomposition import PCA\n",
    "from sklearn.ensemble import RandomForestRegressor, AdaBoostRegressor, BaggingRegressor, RandomForestClassifier\n",
    "from sklearn.linear_model import LinearRegression, SGDRegressor, LogisticRegression\n",
    "from sklearn import metrics\n",
    "from sklearn.model_selection import train_test_split\n",
    "from sklearn.preprocessing import StandardScaler, LabelEncoder\n",
    "from sklearn.tree import DecisionTreeClassifier"
   ]
  },
  {
   "cell_type": "markdown",
   "id": "a7f8cd87-e4e1-47c6-a0bc-997a5452f7df",
   "metadata": {},
   "source": [
    "## Petroleum Consumption Example"
   ]
  },
  {
   "cell_type": "code",
   "execution_count": 2,
   "id": "eaebc6ea-f3c1-4481-a4be-8e659af85f1e",
   "metadata": {},
   "outputs": [],
   "source": [
    "df_petrol = pd.read_csv('https://raw.githubusercontent.com/kgoebber/data_151/main/notebooks/petrol_consumption.csv')"
   ]
  },
  {
   "cell_type": "code",
   "execution_count": 3,
   "id": "6d7ff2f4-b650-4624-97a1-3edf4f770147",
   "metadata": {},
   "outputs": [],
   "source": [
    "X = df_petrol[['Petrol_tax', 'Average_income', 'Paved_Highways', 'Population_Driver_licence(%)']]\n",
    "y = df_petrol['Petrol_Consumption']\n",
    "\n",
    "X_train, X_test, y_train, ytrue = train_test_split(X, y, test_size=0.2, random_state=1)"
   ]
  },
  {
   "cell_type": "code",
   "execution_count": 4,
   "id": "d838a05c-3168-44c7-9e20-7966a5e92309",
   "metadata": {},
   "outputs": [],
   "source": [
    "scalefit = StandardScaler().fit(X_train)\n",
    "X_train = scalefit.transform(X_train)\n",
    "X_test = scalefit.transform(X_test)"
   ]
  },
  {
   "cell_type": "code",
   "execution_count": 5,
   "id": "26a41c85-fbff-4dd5-ad92-7fc6e5e33fd2",
   "metadata": {},
   "outputs": [
    {
     "data": {
      "text/html": [
       "<div>\n",
       "<style scoped>\n",
       "    .dataframe tbody tr th:only-of-type {\n",
       "        vertical-align: middle;\n",
       "    }\n",
       "\n",
       "    .dataframe tbody tr th {\n",
       "        vertical-align: top;\n",
       "    }\n",
       "\n",
       "    .dataframe thead th {\n",
       "        text-align: right;\n",
       "    }\n",
       "</style>\n",
       "<table border=\"1\" class=\"dataframe\">\n",
       "  <thead>\n",
       "    <tr style=\"text-align: right;\">\n",
       "      <th></th>\n",
       "      <th>Petrol_tax</th>\n",
       "      <th>Average_income</th>\n",
       "      <th>Paved_Highways</th>\n",
       "      <th>Population_Driver_licence(%)</th>\n",
       "    </tr>\n",
       "  </thead>\n",
       "  <tbody>\n",
       "    <tr>\n",
       "      <th>Petrol_tax</th>\n",
       "      <td>1.000000</td>\n",
       "      <td>0.012665</td>\n",
       "      <td>-0.522130</td>\n",
       "      <td>-0.288037</td>\n",
       "    </tr>\n",
       "    <tr>\n",
       "      <th>Average_income</th>\n",
       "      <td>0.012665</td>\n",
       "      <td>1.000000</td>\n",
       "      <td>0.050163</td>\n",
       "      <td>0.157070</td>\n",
       "    </tr>\n",
       "    <tr>\n",
       "      <th>Paved_Highways</th>\n",
       "      <td>-0.522130</td>\n",
       "      <td>0.050163</td>\n",
       "      <td>1.000000</td>\n",
       "      <td>-0.064129</td>\n",
       "    </tr>\n",
       "    <tr>\n",
       "      <th>Population_Driver_licence(%)</th>\n",
       "      <td>-0.288037</td>\n",
       "      <td>0.157070</td>\n",
       "      <td>-0.064129</td>\n",
       "      <td>1.000000</td>\n",
       "    </tr>\n",
       "  </tbody>\n",
       "</table>\n",
       "</div>"
      ],
      "text/plain": [
       "                              Petrol_tax  Average_income  Paved_Highways  \\\n",
       "Petrol_tax                      1.000000        0.012665       -0.522130   \n",
       "Average_income                  0.012665        1.000000        0.050163   \n",
       "Paved_Highways                 -0.522130        0.050163        1.000000   \n",
       "Population_Driver_licence(%)   -0.288037        0.157070       -0.064129   \n",
       "\n",
       "                              Population_Driver_licence(%)  \n",
       "Petrol_tax                                       -0.288037  \n",
       "Average_income                                    0.157070  \n",
       "Paved_Highways                                   -0.064129  \n",
       "Population_Driver_licence(%)                      1.000000  "
      ]
     },
     "execution_count": 5,
     "metadata": {},
     "output_type": "execute_result"
    }
   ],
   "source": [
    "pd.DataFrame(X, columns=['Petrol_tax', 'Average_income', 'Paved_Highways', 'Population_Driver_licence(%)']).corr()"
   ]
  },
  {
   "cell_type": "markdown",
   "id": "4dc9aece-0116-4b8e-809f-94f28794ab0c",
   "metadata": {},
   "source": [
    "Let's do a standard regression to set a baseline."
   ]
  },
  {
   "cell_type": "code",
   "execution_count": 6,
   "id": "b609dbc3-a60d-4ef8-add0-4dc79971c5b0",
   "metadata": {},
   "outputs": [
    {
     "name": "stdout",
     "output_type": "stream",
     "text": [
      "Mean Absolute Error: 41.74426177942863\n",
      "Mean Squared Error: 2698.8900969262936\n",
      "Root Mean Squared Error: 51.95084308195867\n",
      "R^2:  0.6639476617417293\n"
     ]
    }
   ],
   "source": [
    "regressor = SGDRegressor()\n",
    "regressor.fit(X_train, y_train);\n",
    "\n",
    "y_pred = regressor.predict(X_test)\n",
    "\n",
    "print('Mean Absolute Error:', metrics.mean_absolute_error(ytrue, y_pred))\n",
    "print('Mean Squared Error:', metrics.mean_squared_error(ytrue, y_pred))\n",
    "print('Root Mean Squared Error:', np.sqrt(metrics.mean_squared_error(ytrue, y_pred)))\n",
    "print('R^2: ', metrics.r2_score(ytrue, y_pred))"
   ]
  },
  {
   "cell_type": "markdown",
   "id": "7e6e49b1-6bc2-430e-b125-70f6045a4ff2",
   "metadata": {},
   "source": [
    "### PCA Computation\n",
    "We'll use the function available through Scikit-Learn to computer the principle components of our feature data.\n",
    "\n",
    "Here we can also give the percentage as a paramter to the PCA function as `pca = PCA(n_components=.95)`. The\n",
    "`.95` means that we want to include 95% of the variance. Hence PCA will return the number of\n",
    "components which describe 95% of the variance. However we could also set this to a known \n",
    "number of components that we want to keep (e.g., 2), if we knew how many we wanted to keep."
   ]
  },
  {
   "cell_type": "markdown",
   "id": "d3ba4de1-2c47-41d3-9866-494f8aa2a311",
   "metadata": {},
   "source": [
    "Now let's compute the principal components of the X_train data (our training features matrix), then use the same fit to calculate the PCs of our X_test data."
   ]
  },
  {
   "cell_type": "code",
   "execution_count": 7,
   "id": "bd7d6dbc-0c15-44f9-8360-a6cc16c34517",
   "metadata": {},
   "outputs": [],
   "source": [
    "# Set up PCA function\n",
    "pca = PCA(n_components=0.95)\n",
    "\n",
    "# Fit our PCA\n",
    "pca_fit = pca.fit(X_train) \n",
    "\n",
    "# Compute the components on the training data and put into a DataFrame (not strictly needed)\n",
    "principalComponents = pca_fit.transform(X_train)\n",
    "pcaDF = pd.DataFrame(data = principalComponents,\n",
    "                     columns = [f'principal component {i+1}' for i in range(principalComponents.shape[1])])\n",
    "\n",
    "# Compute the components on the testing data\n",
    "pcaDF_test = pca_fit.transform(X_test)"
   ]
  },
  {
   "cell_type": "markdown",
   "id": "82173779-6aaa-4650-874c-0ae3e204d507",
   "metadata": {},
   "source": [
    "Let's look at the correlations between our PCs from our training data - note how none of the principal components are correlated with each other. This is a very important characteristic of PCs!"
   ]
  },
  {
   "cell_type": "code",
   "execution_count": 8,
   "id": "b51d5a59-a3b9-4bc8-9956-97f0eeac8dea",
   "metadata": {},
   "outputs": [
    {
     "data": {
      "text/html": [
       "<div>\n",
       "<style scoped>\n",
       "    .dataframe tbody tr th:only-of-type {\n",
       "        vertical-align: middle;\n",
       "    }\n",
       "\n",
       "    .dataframe tbody tr th {\n",
       "        vertical-align: top;\n",
       "    }\n",
       "\n",
       "    .dataframe thead th {\n",
       "        text-align: right;\n",
       "    }\n",
       "</style>\n",
       "<table border=\"1\" class=\"dataframe\">\n",
       "  <thead>\n",
       "    <tr style=\"text-align: right;\">\n",
       "      <th></th>\n",
       "      <th>principal component 1</th>\n",
       "      <th>principal component 2</th>\n",
       "      <th>principal component 3</th>\n",
       "      <th>principal component 4</th>\n",
       "    </tr>\n",
       "  </thead>\n",
       "  <tbody>\n",
       "    <tr>\n",
       "      <th>principal component 1</th>\n",
       "      <td>1.000000e+00</td>\n",
       "      <td>2.442789e-16</td>\n",
       "      <td>5.702494e-17</td>\n",
       "      <td>3.795371e-16</td>\n",
       "    </tr>\n",
       "    <tr>\n",
       "      <th>principal component 2</th>\n",
       "      <td>2.442789e-16</td>\n",
       "      <td>1.000000e+00</td>\n",
       "      <td>2.535062e-16</td>\n",
       "      <td>2.334363e-16</td>\n",
       "    </tr>\n",
       "    <tr>\n",
       "      <th>principal component 3</th>\n",
       "      <td>5.702494e-17</td>\n",
       "      <td>2.535062e-16</td>\n",
       "      <td>1.000000e+00</td>\n",
       "      <td>1.522352e-16</td>\n",
       "    </tr>\n",
       "    <tr>\n",
       "      <th>principal component 4</th>\n",
       "      <td>3.795371e-16</td>\n",
       "      <td>2.334363e-16</td>\n",
       "      <td>1.522352e-16</td>\n",
       "      <td>1.000000e+00</td>\n",
       "    </tr>\n",
       "  </tbody>\n",
       "</table>\n",
       "</div>"
      ],
      "text/plain": [
       "                       principal component 1  principal component 2  \\\n",
       "principal component 1           1.000000e+00           2.442789e-16   \n",
       "principal component 2           2.442789e-16           1.000000e+00   \n",
       "principal component 3           5.702494e-17           2.535062e-16   \n",
       "principal component 4           3.795371e-16           2.334363e-16   \n",
       "\n",
       "                       principal component 3  principal component 4  \n",
       "principal component 1           5.702494e-17           3.795371e-16  \n",
       "principal component 2           2.535062e-16           2.334363e-16  \n",
       "principal component 3           1.000000e+00           1.522352e-16  \n",
       "principal component 4           1.522352e-16           1.000000e+00  "
      ]
     },
     "execution_count": 8,
     "metadata": {},
     "output_type": "execute_result"
    }
   ],
   "source": [
    "pcaDF.corr()"
   ]
  },
  {
   "cell_type": "markdown",
   "id": "20cd3392-ec58-4aba-9ccc-b370f361adc0",
   "metadata": {},
   "source": [
    "Now let's use the PC data to train our regression model...how we'll did we do compared to our base model?"
   ]
  },
  {
   "cell_type": "code",
   "execution_count": 9,
   "id": "85f1b0a9-c602-4e72-a748-c43a3f22448e",
   "metadata": {},
   "outputs": [
    {
     "name": "stdout",
     "output_type": "stream",
     "text": [
      "Mean Absolute Error: 41.850318972258165\n",
      "Mean Squared Error: 2711.6102852468766\n",
      "Root Mean Squared Error: 52.0731244045033\n",
      "R^2:  0.6623638073146498\n"
     ]
    },
    {
     "name": "stderr",
     "output_type": "stream",
     "text": [
      "/Users/kgoebber/miniconda3/envs/main/lib/python3.8/site-packages/sklearn/base.py:441: UserWarning: X does not have valid feature names, but SGDRegressor was fitted with feature names\n",
      "  warnings.warn(\n"
     ]
    }
   ],
   "source": [
    "regressor = SGDRegressor()\n",
    "regressor.fit(pcaDF, y_train);\n",
    "\n",
    "y_pred = regressor.predict(pcaDF_test)\n",
    "\n",
    "print('Mean Absolute Error:', metrics.mean_absolute_error(ytrue, y_pred))\n",
    "print('Mean Squared Error:', metrics.mean_squared_error(ytrue, y_pred))\n",
    "print('Root Mean Squared Error:', np.sqrt(metrics.mean_squared_error(ytrue, y_pred)))\n",
    "print('R^2: ', metrics.r2_score(ytrue, y_pred))"
   ]
  },
  {
   "cell_type": "markdown",
   "id": "12b44d2f-c2df-4c6c-a31c-715bbe526181",
   "metadata": {},
   "source": [
    "Now let's add an ensemble technique to our regression to see if we can get a bit more of improvement."
   ]
  },
  {
   "cell_type": "code",
   "execution_count": 10,
   "id": "98b089e5-94b6-49c3-813a-7dccf55f55b7",
   "metadata": {},
   "outputs": [
    {
     "name": "stdout",
     "output_type": "stream",
     "text": [
      "Mean Absolute Error: 38.26971102312665\n",
      "Mean Squared Error: 2719.1097876171066\n",
      "Root Mean Squared Error: 52.1450840215749\n",
      "R^2:  0.6614300066718748\n"
     ]
    }
   ],
   "source": [
    "regressor = BaggingRegressor(base_estimator=SGDRegressor(), n_estimators=1000, max_samples=35, max_features=3)\n",
    "regressor.fit(X_train, y_train);\n",
    "\n",
    "y_pred = regressor.predict(X_test)\n",
    "\n",
    "print('Mean Absolute Error:', metrics.mean_absolute_error(ytrue, y_pred))\n",
    "print('Mean Squared Error:', metrics.mean_squared_error(ytrue, y_pred))\n",
    "print('Root Mean Squared Error:', np.sqrt(metrics.mean_squared_error(ytrue, y_pred)))\n",
    "print('R^2: ', metrics.r2_score(ytrue, y_pred))"
   ]
  },
  {
   "cell_type": "markdown",
   "id": "f7b604d0-9c57-4f02-aae9-f3587a6a9422",
   "metadata": {},
   "source": [
    "## Red Wine Prediction Example\n",
    "\n",
    "Now let's try this with our Red Wine data, which has a few more features and data"
   ]
  },
  {
   "cell_type": "code",
   "execution_count": 11,
   "id": "9c72f607-9bb8-4a91-8c82-a6a7675abefb",
   "metadata": {},
   "outputs": [],
   "source": [
    "df = pd.read_csv('https://archive.ics.uci.edu/ml/machine-learning-databases/wine-quality/winequality-red.csv', sep=';')"
   ]
  },
  {
   "cell_type": "code",
   "execution_count": 12,
   "id": "ba3dfc11-6a83-4fd0-96f1-b5d102eb09c4",
   "metadata": {},
   "outputs": [],
   "source": [
    "# Use all of our features\n",
    "features = df.drop(columns=['quality'])\n",
    "target = df['quality']\n",
    "\n",
    "# Split our data into training and testing datasets\n",
    "xtrain, xtest, ytrain, ytrue = train_test_split(features, target, random_state=2)"
   ]
  },
  {
   "cell_type": "code",
   "execution_count": 13,
   "id": "d5ff2e41-6cdc-45b0-8b1e-baa16be97990",
   "metadata": {},
   "outputs": [],
   "source": [
    "scalefit = StandardScaler().fit(xtrain)\n",
    "xtrain_scaled = pd.DataFrame(scalefit.transform(xtrain), columns=features.columns)"
   ]
  },
  {
   "cell_type": "code",
   "execution_count": 14,
   "id": "0f643aa7-7ece-4221-b8cf-d30b907e7f33",
   "metadata": {},
   "outputs": [],
   "source": [
    "xtest_scaled = scalefit.transform(xtest)"
   ]
  },
  {
   "cell_type": "code",
   "execution_count": 15,
   "id": "ec41e6f7-8e6f-4d83-ba62-379ede22952c",
   "metadata": {},
   "outputs": [
    {
     "name": "stderr",
     "output_type": "stream",
     "text": [
      "/Users/kgoebber/miniconda3/envs/main/lib/python3.8/site-packages/sklearn/base.py:441: UserWarning: X does not have valid feature names, but PCA was fitted with feature names\n",
      "  warnings.warn(\n"
     ]
    }
   ],
   "source": [
    "pca = PCA(n_components=.95)\n",
    "pca_fit = pca.fit(xtrain_scaled)\n",
    "df_pca = pd.DataFrame(pca.transform(xtrain_scaled))\n",
    "df_pca_test = pd.DataFrame(pca.transform(xtest_scaled))"
   ]
  },
  {
   "cell_type": "markdown",
   "id": "d6577fcc-8e3c-4d6e-8ac3-d852511a0448",
   "metadata": {},
   "source": [
    "Now let's look at the explained variance ratio of each of our PCs - ideally we want to see an exponential drop off in explained variance."
   ]
  },
  {
   "cell_type": "code",
   "execution_count": 16,
   "id": "5a1226fe-f764-4536-8da5-b35aa88c3236",
   "metadata": {},
   "outputs": [
    {
     "data": {
      "image/png": "[encoded data removed]",
      "text/plain": [
       "<Figure size 432x288 with 1 Axes>"
      ]
     },
     "metadata": {
      "needs_background": "light"
     },
     "output_type": "display_data"
    }
   ],
   "source": [
    "pd.DataFrame(pca.explained_variance_ratio_).plot.bar()\n",
    "plt.legend('')\n",
    "plt.xlabel('Principal Components')\n",
    "plt.ylabel('Explained Varience');"
   ]
  },
  {
   "cell_type": "code",
   "execution_count": 17,
   "id": "30b33b60-e20e-4d38-8149-a1d4c269542d",
   "metadata": {},
   "outputs": [],
   "source": [
    "def model_validation(ytrue, y_pred):\n",
    "    '''Definition for computing and printing a series of Classification metric scores'''\n",
    "    print(f'Accuracy Score: {metrics.accuracy_score(ytrue, y_pred)}')\n",
    "    print(f'Precision Score: {metrics.precision_score(ytrue, y_pred, average=\"macro\")}')\n",
    "    print(f'Recall Score: {metrics.recall_score(ytrue, y_pred, average=\"macro\")}')\n",
    "    print(f'F1 Score: {metrics.f1_score(ytrue, y_pred, average=\"macro\")}')"
   ]
  },
  {
   "cell_type": "markdown",
   "id": "b10f589b-f931-4f1d-bb92-b25b8e6dfda9",
   "metadata": {},
   "source": [
    "Start with a Decision Tree Classification - No PCs."
   ]
  },
  {
   "cell_type": "code",
   "execution_count": 18,
   "id": "aa37084e-1385-48db-8761-84d137fbb40a",
   "metadata": {},
   "outputs": [
    {
     "name": "stdout",
     "output_type": "stream",
     "text": [
      "Accuracy Score: 0.585\n",
      "Precision Score: 0.365003401506469\n",
      "Recall Score: 0.3802985677985678\n",
      "F1 Score: 0.3697709553470303\n"
     ]
    },
    {
     "name": "stderr",
     "output_type": "stream",
     "text": [
      "/Users/kgoebber/miniconda3/envs/main/lib/python3.8/site-packages/sklearn/metrics/_classification.py:1308: UndefinedMetricWarning: Precision is ill-defined and being set to 0.0 in labels with no predicted samples. Use `zero_division` parameter to control this behavior.\n",
      "  _warn_prf(average, modifier, msg_start, len(result))\n"
     ]
    }
   ],
   "source": [
    "model = DecisionTreeClassifier(random_state=4)\n",
    "\n",
    "model.fit(xtrain, ytrain)\n",
    "\n",
    "y_pred = model.predict(xtest)\n",
    "\n",
    "model_validation(ytrue, y_pred)"
   ]
  },
  {
   "cell_type": "markdown",
   "id": "351333db-68c9-40b9-8253-58a105dab553",
   "metadata": {},
   "source": [
    "Now a Decision Tree Classification using PCs as predictors"
   ]
  },
  {
   "cell_type": "code",
   "execution_count": 19,
   "id": "70c1098a-6dd9-4b5d-a414-21b31d6c6d44",
   "metadata": {},
   "outputs": [
    {
     "name": "stdout",
     "output_type": "stream",
     "text": [
      "Accuracy Score: 0.585\n",
      "Precision Score: 0.33367058167260205\n",
      "Recall Score: 0.33804573804573806\n",
      "F1 Score: 0.334029619208943\n"
     ]
    }
   ],
   "source": [
    "model = DecisionTreeClassifier(random_state=4)\n",
    "\n",
    "model.fit(df_pca, ytrain)\n",
    "\n",
    "y_pred = model.predict(df_pca_test)\n",
    "\n",
    "model_validation(ytrue, y_pred)"
   ]
  },
  {
   "cell_type": "markdown",
   "id": "bb6a01f4-8ea0-45a9-8d60-db3ec534e83a",
   "metadata": {},
   "source": [
    "Now a random forecast classification using our PCs as predictors"
   ]
  },
  {
   "cell_type": "code",
   "execution_count": 20,
   "id": "7e4d1678-8230-4f29-86de-281389dbe136",
   "metadata": {},
   "outputs": [
    {
     "name": "stdout",
     "output_type": "stream",
     "text": [
      "Accuracy Score: 0.685\n",
      "Precision Score: 0.5117426749195474\n",
      "Recall Score: 0.373704954954955\n",
      "F1 Score: 0.3962893564739256\n"
     ]
    },
    {
     "name": "stderr",
     "output_type": "stream",
     "text": [
      "/Users/kgoebber/miniconda3/envs/main/lib/python3.8/site-packages/sklearn/metrics/_classification.py:1308: UndefinedMetricWarning: Precision is ill-defined and being set to 0.0 in labels with no predicted samples. Use `zero_division` parameter to control this behavior.\n",
      "  _warn_prf(average, modifier, msg_start, len(result))\n"
     ]
    },
    {
     "data": {
      "text/plain": [
       "array([[  0,   0,   0,   1,   0,   0],\n",
       "       [  0,   0,  10,   3,   0,   0],\n",
       "       [  0,   0, 111,  33,   4,   0],\n",
       "       [  0,   0,  45, 135,   5,   0],\n",
       "       [  0,   0,   3,  18,  27,   0],\n",
       "       [  0,   0,   0,   2,   2,   1]])"
      ]
     },
     "execution_count": 20,
     "metadata": {},
     "output_type": "execute_result"
    }
   ],
   "source": [
    "# Set parameter for max number of features for Random Forest\n",
    "m = np.int64(np.sqrt(df_pca.shape[1]))\n",
    "\n",
    "# Set up our Random Forest\n",
    "random_forest = RandomForestClassifier(max_features=m, max_samples=0.75, oob_score=True, random_state=4)\n",
    "random_forest.fit(df_pca, ytrain)\n",
    "\n",
    "y_pred = random_forest.predict(df_pca_test)\n",
    "\n",
    "model_validation(ytrue, y_pred)\n",
    "metrics.confusion_matrix(ytrue, y_pred)"
   ]
  },
  {
   "cell_type": "markdown",
   "id": "749f8ff2-3496-4546-9aab-023d36dcc096",
   "metadata": {},
   "source": [
    "## Titanic Example\n",
    "\n",
    "One more example that uses the Titanic dataset with a number of different data pre-processing tasks, then use Logistic Regression to set a base prediction scheme with PCs to make a base prediction. Then use a random forest classifier with the PCs to see if we can improve on our model."
   ]
  },
  {
   "cell_type": "code",
   "execution_count": 21,
   "id": "a4e663fa-7b86-4a31-b406-f04cad825fb7",
   "metadata": {},
   "outputs": [],
   "source": [
    "# Read in data\n",
    "titanic_data = pd.read_csv('https://raw.githubusercontent.com/pandas-dev/pandas/master/doc/data/titanic.csv')"
   ]
  },
  {
   "cell_type": "code",
   "execution_count": 22,
   "id": "c98c1974-d09c-4cf5-b009-8d567332ab6a",
   "metadata": {},
   "outputs": [],
   "source": [
    "# Let's drop the cabin and ticket columns\n",
    "titanic_data.drop(labels=['Cabin', 'Ticket'], axis=1, inplace=True)\n",
    "\n",
    "titanic_data[\"Age\"].fillna(titanic_data[\"Age\"].median(), inplace=True)\n",
    "titanic_data[\"Embarked\"].fillna(\"S\", inplace=True)\n",
    "\n",
    "encoder_1 = LabelEncoder()\n",
    "\n",
    "# Fit the encoder on the data\n",
    "encoder_1.fit(titanic_data[\"Sex\"])\n",
    "\n",
    "# Transform and replace the training data\n",
    "titanic_sex_encoded = encoder_1.transform(titanic_data[\"Sex\"])\n",
    "titanic_data[\"Sex\"] = titanic_sex_encoded\n",
    "\n",
    "encoder_2 = LabelEncoder()\n",
    "encoder_2.fit(titanic_data[\"Embarked\"])\n",
    "\n",
    "titanic_embarked_encoded = encoder_2.transform(titanic_data[\"Embarked\"])\n",
    "titanic_data[\"Embarked\"] = titanic_embarked_encoded\n",
    "\n",
    "# Assume the name is going to be useless and drop it\n",
    "titanic_data.drop(\"Name\", axis=1, inplace=True)"
   ]
  },
  {
   "cell_type": "code",
   "execution_count": 23,
   "id": "5deaf1da-eb7e-414b-b7e7-8b2fb1ae9d4c",
   "metadata": {},
   "outputs": [],
   "source": [
    "# Remember that the scaler takes arrays\n",
    "ages_train = np.array(titanic_data[\"Age\"]).reshape(-1, 1)\n",
    "fares_train = np.array(titanic_data[\"Fare\"]).reshape(-1, 1)\n",
    "\n",
    "scaler = StandardScaler()\n",
    "\n",
    "titanic_data[\"Age\"] = scaler.fit_transform(ages_train)\n",
    "titanic_data[\"Fare\"] = scaler.fit_transform(fares_train)\n",
    "\n",
    "# Now to select our training and testing data\n",
    "features = titanic_data.drop(labels=['PassengerId', 'Survived'], axis=1)\n",
    "labels = titanic_data['Survived']"
   ]
  },
  {
   "cell_type": "code",
   "execution_count": 24,
   "id": "fceabc26-d791-4d09-8885-4a7b5d0b81ea",
   "metadata": {},
   "outputs": [],
   "source": [
    "X_train, X_val, y_train, y_val = train_test_split(features, labels, test_size=0.2, random_state=27)"
   ]
  },
  {
   "cell_type": "code",
   "execution_count": 25,
   "id": "c128eeb5-6a50-4e3b-b96f-57debb66168e",
   "metadata": {},
   "outputs": [
    {
     "name": "stdout",
     "output_type": "stream",
     "text": [
      "Accuracy Score: 0.8212290502793296\n",
      "Precision Score: 0.8113026819923372\n",
      "Recall Score: 0.8031716417910448\n",
      "F1 Score: 0.8067476383265857\n"
     ]
    },
    {
     "data": {
      "text/plain": [
       "array([[98, 14],\n",
       "       [18, 49]])"
      ]
     },
     "execution_count": 25,
     "metadata": {},
     "output_type": "execute_result"
    }
   ],
   "source": [
    "logreg_clf = LogisticRegression()\n",
    "logreg_clf.fit(X_train, y_train)\n",
    "preds = logreg_clf.predict(X_val)\n",
    "\n",
    "model_validation(y_val, preds)\n",
    "metrics.confusion_matrix(y_val, preds)"
   ]
  },
  {
   "cell_type": "code",
   "execution_count": 26,
   "id": "56d17446-f58d-45fa-b27b-6b538c72584b",
   "metadata": {},
   "outputs": [],
   "source": [
    "PCA_transform = PCA(n_components=.99)\n",
    "scalefit = StandardScaler().fit(features)\n",
    "scaled_features = pd.DataFrame(scalefit.transform(features), columns=features.columns)\n",
    "PCA_transform.fit(scaled_features)\n",
    "features_new = PCA_transform.transform(scaled_features)"
   ]
  },
  {
   "cell_type": "code",
   "execution_count": 27,
   "id": "fa91a7ca-062c-42b2-a31c-86a252e0031b",
   "metadata": {},
   "outputs": [
    {
     "name": "stdout",
     "output_type": "stream",
     "text": [
      "Accuracy Score: 0.8212290502793296\n",
      "Precision Score: 0.8100539811066128\n",
      "Recall Score: 0.8061700426439233\n",
      "F1 Score: 0.8079914186108876\n"
     ]
    },
    {
     "data": {
      "text/plain": [
       "array([[97, 15],\n",
       "       [17, 50]])"
      ]
     },
     "execution_count": 27,
     "metadata": {},
     "output_type": "execute_result"
    }
   ],
   "source": [
    "X_train, X_val, y_train, y_val = train_test_split(features_new, labels, test_size=0.2, random_state=27)\n",
    "\n",
    "# Set parameter for max number of features for Random Forest\n",
    "m = np.int64(np.sqrt(X_train.shape[1]))\n",
    "\n",
    "forest = RandomForestClassifier(max_features=m, max_samples=0.75, random_state=4)\n",
    "forest.fit(X_train, y_train)\n",
    "preds = forest.predict(X_val)\n",
    "\n",
    "model_validation(y_val, preds)\n",
    "metrics.confusion_matrix(y_val, preds)"
   ]
  },
  {
   "cell_type": "code",
   "execution_count": null,
   "id": "6eb89796-fbfa-4afd-8756-a84032aad8f8",
   "metadata": {},
   "outputs": [],
   "source": []
  }
 ],
 "metadata": {
  "kernelspec": {
   "display_name": "Python 3 (ipykernel)",
   "language": "python",
   "name": "python3"
  },
  "language_info": {
   "codemirror_mode": {
    "name": "ipython",
    "version": 3
   },
   "file_extension": ".py",
   "mimetype": "text/x-python",
   "name": "python",
   "nbconvert_exporter": "python",
   "pygments_lexer": "ipython3",
   "version": "3.8.12"
  }
 },
 "nbformat": 4,
 "nbformat_minor": 5
}
